{
 "cells": [
  {
   "cell_type": "markdown",
   "source": [
    "## 为 PennFudan 编写自定义数据集 "
   ],
   "metadata": {}
  },
  {
   "cell_type": "code",
   "execution_count": 1,
   "source": [
    "import os\r\n",
    "import numpy as np\r\n",
    "import torch\r\n",
    "from PIL import Image\r\n",
    "\r\n",
    "\r\n",
    "class PennFudanDataset(torch.utils.data.Dataset):\r\n",
    "    def __init__(self, root, transforms):\r\n",
    "        self.root = root\r\n",
    "        self.transforms = transforms\r\n",
    "        # load all image files, sorting them to\r\n",
    "        # ensure that they are aligned\r\n",
    "        self.imgs = list(sorted(os.listdir(os.path.join(root, \"PNGImages\"))))\r\n",
    "        self.masks = list(sorted(os.listdir(os.path.join(root, \"PedMasks\"))))\r\n",
    "\r\n",
    "    def __getitem__(self, idx):\r\n",
    "        # load images and masks\r\n",
    "        img_path = os.path.join(self.root, \"PNGImages\", self.imgs[idx])\r\n",
    "        mask_path = os.path.join(self.root, \"PedMasks\", self.masks[idx])\r\n",
    "        img = Image.open(img_path).convert(\"RGB\")\r\n",
    "        # note that we haven't converted the mask to RGB,\r\n",
    "        # because each color corresponds to a different instance\r\n",
    "        # with 0 being background\r\n",
    "        mask = Image.open(mask_path)\r\n",
    "        # convert the PIL Image into a numpy array\r\n",
    "        mask = np.array(mask)\r\n",
    "        # instances are encoded as different colors\r\n",
    "        obj_ids = np.unique(mask)\r\n",
    "        # first id is the background, so remove it\r\n",
    "        obj_ids = obj_ids[1:]\r\n",
    "\r\n",
    "        # split the color-encoded mask into a set\r\n",
    "        # of binary masks\r\n",
    "        masks = mask == obj_ids[:, None, None]\r\n",
    "\r\n",
    "        # get bounding box coordinates for each mask\r\n",
    "        num_objs = len(obj_ids)\r\n",
    "        boxes = []\r\n",
    "        for i in range(num_objs):\r\n",
    "            pos = np.where(masks[i])\r\n",
    "            xmin = np.min(pos[1])\r\n",
    "            xmax = np.max(pos[1])\r\n",
    "            ymin = np.min(pos[0])\r\n",
    "            ymax = np.max(pos[0])\r\n",
    "            boxes.append([xmin, ymin, xmax, ymax])\r\n",
    "\r\n",
    "        # convert everything into a torch.Tensor\r\n",
    "        boxes = torch.as_tensor(boxes, dtype=torch.float32)\r\n",
    "        # there is only one class\r\n",
    "        labels = torch.ones((num_objs,), dtype=torch.int64)\r\n",
    "        masks = torch.as_tensor(masks, dtype=torch.uint8)\r\n",
    "\r\n",
    "        image_id = torch.tensor([idx])\r\n",
    "        area = (boxes[:, 3] - boxes[:, 1]) * (boxes[:, 2] - boxes[:, 0])\r\n",
    "        # suppose all instances are not crowd\r\n",
    "        iscrowd = torch.zeros((num_objs,), dtype=torch.int64)\r\n",
    "\r\n",
    "        target = {}\r\n",
    "        target[\"boxes\"] = boxes\r\n",
    "        target[\"labels\"] = labels\r\n",
    "        target[\"masks\"] = masks\r\n",
    "        target[\"image_id\"] = image_id\r\n",
    "        target[\"area\"] = area\r\n",
    "        target[\"iscrowd\"] = iscrowd\r\n",
    "\r\n",
    "        if self.transforms is not None:\r\n",
    "            img, target = self.transforms(img, target)\r\n",
    "\r\n",
    "        return img, target\r\n",
    "\r\n",
    "    def __len__(self):\r\n",
    "        return len(self.imgs)"
   ],
   "outputs": [],
   "metadata": {}
  },
  {
   "cell_type": "markdown",
   "source": [
    "## Defining your model"
   ],
   "metadata": {}
  },
  {
   "cell_type": "markdown",
   "source": [
    "1 - 从预训练模型进行微调 "
   ],
   "metadata": {}
  },
  {
   "cell_type": "code",
   "execution_count": 2,
   "source": [
    "import torchvision\r\n",
    "from torchvision.models.detection.faster_rcnn import FastRCNNPredictor\r\n",
    "\r\n",
    "# load a model pre-trained pre-trained on COCO\r\n",
    "model = torchvision.models.detection.fasterrcnn_resnet50_fpn(pretrained=True)\r\n",
    "\r\n",
    "# replace the classifier with a new one, that has\r\n",
    "# num_classes which is user-defined\r\n",
    "num_classes = 2  # 1 class (person) + background\r\n",
    "# get number of input features for the classifier\r\n",
    "in_features = model.roi_heads.box_predictor.cls_score.in_features\r\n",
    "# replace the pre-trained head with a new one\r\n",
    "model.roi_heads.box_predictor = FastRCNNPredictor(in_features, num_classes)"
   ],
   "outputs": [
    {
     "output_type": "stream",
     "name": "stderr",
     "text": [
      "Downloading: \"https://download.pytorch.org/models/fasterrcnn_resnet50_fpn_coco-258fb6c6.pth\" to C:\\Users\\Bxd/.cache\\torch\\hub\\checkpoints\\fasterrcnn_resnet50_fpn_coco-258fb6c6.pth\n",
      "100.0%\n"
     ]
    }
   ],
   "metadata": {}
  },
  {
   "cell_type": "markdown",
   "source": [
    "2-修改模型以添加其他主干"
   ],
   "metadata": {}
  },
  {
   "cell_type": "code",
   "execution_count": 5,
   "source": [
    "import torchvision\r\n",
    "from torchvision.models.detection import FasterRCNN\r\n",
    "from torchvision.models.detection.rpn import AnchorGenerator\r\n",
    "\r\n",
    "# load a pre-trained model for classification and return\r\n",
    "# only the features\r\n",
    "backbone = torchvision.models.mobilenet_v2(pretrained=True).features\r\n",
    "# FasterRCNN needs to know the number of\r\n",
    "# output channels in a backbone. For mobilenet_v2, it's 1280\r\n",
    "# so we need to add it here\r\n",
    "backbone.out_channels = 1280\r\n",
    "\r\n",
    "# let's make the RPN generate 5 x 3 anchors per spatial\r\n",
    "# location, with 5 different sizes and 3 different aspect\r\n",
    "# ratios. We have a Tuple[Tuple[int]] because each feature\r\n",
    "# map could potentially have different sizes and\r\n",
    "# aspect ratios\r\n",
    "anchor_generator = AnchorGenerator(sizes=((32, 64, 128, 256, 512),),\r\n",
    "                                   aspect_ratios=((0.5, 1.0, 2.0),))\r\n",
    "\r\n",
    "# let's define what are the feature maps that we will\r\n",
    "# use to perform the region of interest cropping, as well as\r\n",
    "# the size of the crop after rescaling.\r\n",
    "# if your backbone returns a Tensor, featmap_names is expected to\r\n",
    "# be [0]. More generally, the backbone should return an\r\n",
    "# OrderedDict[Tensor], and in featmap_names you can choose which\r\n",
    "# feature maps to use.\r\n",
    "roi_pooler = torchvision.ops.MultiScaleRoIAlign(featmap_names=['0'],\r\n",
    "                                                output_size=7,\r\n",
    "                                                sampling_ratio=2)\r\n",
    "\r\n",
    "# put the pieces together inside a FasterRCNN model\r\n",
    "model = FasterRCNN(backbone,\r\n",
    "                   num_classes=2,\r\n",
    "                   rpn_anchor_generator=anchor_generator,\r\n",
    "                   box_roi_pool=roi_pooler)"
   ],
   "outputs": [
    {
     "output_type": "stream",
     "name": "stderr",
     "text": [
      "Downloading: \"https://download.pytorch.org/models/mobilenet_v2-b0353104.pth\" to C:\\Users\\Bxd/.cache\\torch\\hub\\checkpoints\\mobilenet_v2-b0353104.pth\n",
      "13.0%\n"
     ]
    },
    {
     "output_type": "error",
     "ename": "ConnectionResetError",
     "evalue": "[WinError 10054] 远程主机强迫关闭了一个现有的连接。",
     "traceback": [
      "\u001b[1;31m---------------------------------------------------------------------------\u001b[0m",
      "\u001b[1;31mConnectionResetError\u001b[0m                      Traceback (most recent call last)",
      "\u001b[1;32m<ipython-input-5-4f179c594320>\u001b[0m in \u001b[0;36m<module>\u001b[1;34m\u001b[0m\n\u001b[0;32m      5\u001b[0m \u001b[1;31m# load a pre-trained model for classification and return\u001b[0m\u001b[1;33m\u001b[0m\u001b[1;33m\u001b[0m\u001b[1;33m\u001b[0m\u001b[0m\n\u001b[0;32m      6\u001b[0m \u001b[1;31m# only the features\u001b[0m\u001b[1;33m\u001b[0m\u001b[1;33m\u001b[0m\u001b[1;33m\u001b[0m\u001b[0m\n\u001b[1;32m----> 7\u001b[1;33m \u001b[0mbackbone\u001b[0m \u001b[1;33m=\u001b[0m \u001b[0mtorchvision\u001b[0m\u001b[1;33m.\u001b[0m\u001b[0mmodels\u001b[0m\u001b[1;33m.\u001b[0m\u001b[0mmobilenet_v2\u001b[0m\u001b[1;33m(\u001b[0m\u001b[0mpretrained\u001b[0m\u001b[1;33m=\u001b[0m\u001b[1;32mTrue\u001b[0m\u001b[1;33m)\u001b[0m\u001b[1;33m.\u001b[0m\u001b[0mfeatures\u001b[0m\u001b[1;33m\u001b[0m\u001b[1;33m\u001b[0m\u001b[0m\n\u001b[0m\u001b[0;32m      8\u001b[0m \u001b[1;31m# FasterRCNN needs to know the number of\u001b[0m\u001b[1;33m\u001b[0m\u001b[1;33m\u001b[0m\u001b[1;33m\u001b[0m\u001b[0m\n\u001b[0;32m      9\u001b[0m \u001b[1;31m# output channels in a backbone. For mobilenet_v2, it's 1280\u001b[0m\u001b[1;33m\u001b[0m\u001b[1;33m\u001b[0m\u001b[1;33m\u001b[0m\u001b[0m\n",
      "\u001b[1;32m~\\AppData\\Local\\Programs\\Python\\Python39\\lib\\site-packages\\torchvision\\models\\mobilenet.py\u001b[0m in \u001b[0;36mmobilenet_v2\u001b[1;34m(pretrained, progress, **kwargs)\u001b[0m\n\u001b[0;32m    183\u001b[0m     \u001b[0mmodel\u001b[0m \u001b[1;33m=\u001b[0m \u001b[0mMobileNetV2\u001b[0m\u001b[1;33m(\u001b[0m\u001b[1;33m**\u001b[0m\u001b[0mkwargs\u001b[0m\u001b[1;33m)\u001b[0m\u001b[1;33m\u001b[0m\u001b[1;33m\u001b[0m\u001b[0m\n\u001b[0;32m    184\u001b[0m     \u001b[1;32mif\u001b[0m \u001b[0mpretrained\u001b[0m\u001b[1;33m:\u001b[0m\u001b[1;33m\u001b[0m\u001b[1;33m\u001b[0m\u001b[0m\n\u001b[1;32m--> 185\u001b[1;33m         state_dict = load_state_dict_from_url(model_urls['mobilenet_v2'],\n\u001b[0m\u001b[0;32m    186\u001b[0m                                               progress=progress)\n\u001b[0;32m    187\u001b[0m         \u001b[0mmodel\u001b[0m\u001b[1;33m.\u001b[0m\u001b[0mload_state_dict\u001b[0m\u001b[1;33m(\u001b[0m\u001b[0mstate_dict\u001b[0m\u001b[1;33m)\u001b[0m\u001b[1;33m\u001b[0m\u001b[1;33m\u001b[0m\u001b[0m\n",
      "\u001b[1;32m~\\AppData\\Local\\Programs\\Python\\Python39\\lib\\site-packages\\torch\\hub.py\u001b[0m in \u001b[0;36mload_state_dict_from_url\u001b[1;34m(url, model_dir, map_location, progress, check_hash, file_name)\u001b[0m\n\u001b[0;32m    553\u001b[0m             \u001b[0mr\u001b[0m \u001b[1;33m=\u001b[0m \u001b[0mHASH_REGEX\u001b[0m\u001b[1;33m.\u001b[0m\u001b[0msearch\u001b[0m\u001b[1;33m(\u001b[0m\u001b[0mfilename\u001b[0m\u001b[1;33m)\u001b[0m  \u001b[1;31m# r is Optional[Match[str]]\u001b[0m\u001b[1;33m\u001b[0m\u001b[1;33m\u001b[0m\u001b[0m\n\u001b[0;32m    554\u001b[0m             \u001b[0mhash_prefix\u001b[0m \u001b[1;33m=\u001b[0m \u001b[0mr\u001b[0m\u001b[1;33m.\u001b[0m\u001b[0mgroup\u001b[0m\u001b[1;33m(\u001b[0m\u001b[1;36m1\u001b[0m\u001b[1;33m)\u001b[0m \u001b[1;32mif\u001b[0m \u001b[0mr\u001b[0m \u001b[1;32melse\u001b[0m \u001b[1;32mNone\u001b[0m\u001b[1;33m\u001b[0m\u001b[1;33m\u001b[0m\u001b[0m\n\u001b[1;32m--> 555\u001b[1;33m         \u001b[0mdownload_url_to_file\u001b[0m\u001b[1;33m(\u001b[0m\u001b[0murl\u001b[0m\u001b[1;33m,\u001b[0m \u001b[0mcached_file\u001b[0m\u001b[1;33m,\u001b[0m \u001b[0mhash_prefix\u001b[0m\u001b[1;33m,\u001b[0m \u001b[0mprogress\u001b[0m\u001b[1;33m=\u001b[0m\u001b[0mprogress\u001b[0m\u001b[1;33m)\u001b[0m\u001b[1;33m\u001b[0m\u001b[1;33m\u001b[0m\u001b[0m\n\u001b[0m\u001b[0;32m    556\u001b[0m \u001b[1;33m\u001b[0m\u001b[0m\n\u001b[0;32m    557\u001b[0m     \u001b[1;32mif\u001b[0m \u001b[0m_is_legacy_zip_format\u001b[0m\u001b[1;33m(\u001b[0m\u001b[0mcached_file\u001b[0m\u001b[1;33m)\u001b[0m\u001b[1;33m:\u001b[0m\u001b[1;33m\u001b[0m\u001b[1;33m\u001b[0m\u001b[0m\n",
      "\u001b[1;32m~\\AppData\\Local\\Programs\\Python\\Python39\\lib\\site-packages\\torch\\hub.py\u001b[0m in \u001b[0;36mdownload_url_to_file\u001b[1;34m(url, dst, hash_prefix, progress)\u001b[0m\n\u001b[0;32m    445\u001b[0m                   unit='B', unit_scale=True, unit_divisor=1024) as pbar:\n\u001b[0;32m    446\u001b[0m             \u001b[1;32mwhile\u001b[0m \u001b[1;32mTrue\u001b[0m\u001b[1;33m:\u001b[0m\u001b[1;33m\u001b[0m\u001b[1;33m\u001b[0m\u001b[0m\n\u001b[1;32m--> 447\u001b[1;33m                 \u001b[0mbuffer\u001b[0m \u001b[1;33m=\u001b[0m \u001b[0mu\u001b[0m\u001b[1;33m.\u001b[0m\u001b[0mread\u001b[0m\u001b[1;33m(\u001b[0m\u001b[1;36m8192\u001b[0m\u001b[1;33m)\u001b[0m\u001b[1;33m\u001b[0m\u001b[1;33m\u001b[0m\u001b[0m\n\u001b[0m\u001b[0;32m    448\u001b[0m                 \u001b[1;32mif\u001b[0m \u001b[0mlen\u001b[0m\u001b[1;33m(\u001b[0m\u001b[0mbuffer\u001b[0m\u001b[1;33m)\u001b[0m \u001b[1;33m==\u001b[0m \u001b[1;36m0\u001b[0m\u001b[1;33m:\u001b[0m\u001b[1;33m\u001b[0m\u001b[1;33m\u001b[0m\u001b[0m\n\u001b[0;32m    449\u001b[0m                     \u001b[1;32mbreak\u001b[0m\u001b[1;33m\u001b[0m\u001b[1;33m\u001b[0m\u001b[0m\n",
      "\u001b[1;32m~\\AppData\\Local\\Programs\\Python\\Python39\\lib\\http\\client.py\u001b[0m in \u001b[0;36mread\u001b[1;34m(self, amt)\u001b[0m\n\u001b[0;32m    456\u001b[0m             \u001b[1;31m# Amount is given, implement using readinto\u001b[0m\u001b[1;33m\u001b[0m\u001b[1;33m\u001b[0m\u001b[1;33m\u001b[0m\u001b[0m\n\u001b[0;32m    457\u001b[0m             \u001b[0mb\u001b[0m \u001b[1;33m=\u001b[0m \u001b[0mbytearray\u001b[0m\u001b[1;33m(\u001b[0m\u001b[0mamt\u001b[0m\u001b[1;33m)\u001b[0m\u001b[1;33m\u001b[0m\u001b[1;33m\u001b[0m\u001b[0m\n\u001b[1;32m--> 458\u001b[1;33m             \u001b[0mn\u001b[0m \u001b[1;33m=\u001b[0m \u001b[0mself\u001b[0m\u001b[1;33m.\u001b[0m\u001b[0mreadinto\u001b[0m\u001b[1;33m(\u001b[0m\u001b[0mb\u001b[0m\u001b[1;33m)\u001b[0m\u001b[1;33m\u001b[0m\u001b[1;33m\u001b[0m\u001b[0m\n\u001b[0m\u001b[0;32m    459\u001b[0m             \u001b[1;32mreturn\u001b[0m \u001b[0mmemoryview\u001b[0m\u001b[1;33m(\u001b[0m\u001b[0mb\u001b[0m\u001b[1;33m)\u001b[0m\u001b[1;33m[\u001b[0m\u001b[1;33m:\u001b[0m\u001b[0mn\u001b[0m\u001b[1;33m]\u001b[0m\u001b[1;33m.\u001b[0m\u001b[0mtobytes\u001b[0m\u001b[1;33m(\u001b[0m\u001b[1;33m)\u001b[0m\u001b[1;33m\u001b[0m\u001b[1;33m\u001b[0m\u001b[0m\n\u001b[0;32m    460\u001b[0m         \u001b[1;32melse\u001b[0m\u001b[1;33m:\u001b[0m\u001b[1;33m\u001b[0m\u001b[1;33m\u001b[0m\u001b[0m\n",
      "\u001b[1;32m~\\AppData\\Local\\Programs\\Python\\Python39\\lib\\http\\client.py\u001b[0m in \u001b[0;36mreadinto\u001b[1;34m(self, b)\u001b[0m\n\u001b[0;32m    500\u001b[0m         \u001b[1;31m# connection, and the user is reading more bytes than will be provided\u001b[0m\u001b[1;33m\u001b[0m\u001b[1;33m\u001b[0m\u001b[1;33m\u001b[0m\u001b[0m\n\u001b[0;32m    501\u001b[0m         \u001b[1;31m# (for example, reading in 1k chunks)\u001b[0m\u001b[1;33m\u001b[0m\u001b[1;33m\u001b[0m\u001b[1;33m\u001b[0m\u001b[0m\n\u001b[1;32m--> 502\u001b[1;33m         \u001b[0mn\u001b[0m \u001b[1;33m=\u001b[0m \u001b[0mself\u001b[0m\u001b[1;33m.\u001b[0m\u001b[0mfp\u001b[0m\u001b[1;33m.\u001b[0m\u001b[0mreadinto\u001b[0m\u001b[1;33m(\u001b[0m\u001b[0mb\u001b[0m\u001b[1;33m)\u001b[0m\u001b[1;33m\u001b[0m\u001b[1;33m\u001b[0m\u001b[0m\n\u001b[0m\u001b[0;32m    503\u001b[0m         \u001b[1;32mif\u001b[0m \u001b[1;32mnot\u001b[0m \u001b[0mn\u001b[0m \u001b[1;32mand\u001b[0m \u001b[0mb\u001b[0m\u001b[1;33m:\u001b[0m\u001b[1;33m\u001b[0m\u001b[1;33m\u001b[0m\u001b[0m\n\u001b[0;32m    504\u001b[0m             \u001b[1;31m# Ideally, we would raise IncompleteRead if the content-length\u001b[0m\u001b[1;33m\u001b[0m\u001b[1;33m\u001b[0m\u001b[1;33m\u001b[0m\u001b[0m\n",
      "\u001b[1;32m~\\AppData\\Local\\Programs\\Python\\Python39\\lib\\socket.py\u001b[0m in \u001b[0;36mreadinto\u001b[1;34m(self, b)\u001b[0m\n\u001b[0;32m    702\u001b[0m         \u001b[1;32mwhile\u001b[0m \u001b[1;32mTrue\u001b[0m\u001b[1;33m:\u001b[0m\u001b[1;33m\u001b[0m\u001b[1;33m\u001b[0m\u001b[0m\n\u001b[0;32m    703\u001b[0m             \u001b[1;32mtry\u001b[0m\u001b[1;33m:\u001b[0m\u001b[1;33m\u001b[0m\u001b[1;33m\u001b[0m\u001b[0m\n\u001b[1;32m--> 704\u001b[1;33m                 \u001b[1;32mreturn\u001b[0m \u001b[0mself\u001b[0m\u001b[1;33m.\u001b[0m\u001b[0m_sock\u001b[0m\u001b[1;33m.\u001b[0m\u001b[0mrecv_into\u001b[0m\u001b[1;33m(\u001b[0m\u001b[0mb\u001b[0m\u001b[1;33m)\u001b[0m\u001b[1;33m\u001b[0m\u001b[1;33m\u001b[0m\u001b[0m\n\u001b[0m\u001b[0;32m    705\u001b[0m             \u001b[1;32mexcept\u001b[0m \u001b[0mtimeout\u001b[0m\u001b[1;33m:\u001b[0m\u001b[1;33m\u001b[0m\u001b[1;33m\u001b[0m\u001b[0m\n\u001b[0;32m    706\u001b[0m                 \u001b[0mself\u001b[0m\u001b[1;33m.\u001b[0m\u001b[0m_timeout_occurred\u001b[0m \u001b[1;33m=\u001b[0m \u001b[1;32mTrue\u001b[0m\u001b[1;33m\u001b[0m\u001b[1;33m\u001b[0m\u001b[0m\n",
      "\u001b[1;32m~\\AppData\\Local\\Programs\\Python\\Python39\\lib\\ssl.py\u001b[0m in \u001b[0;36mrecv_into\u001b[1;34m(self, buffer, nbytes, flags)\u001b[0m\n\u001b[0;32m   1239\u001b[0m                   \u001b[1;34m\"non-zero flags not allowed in calls to recv_into() on %s\"\u001b[0m \u001b[1;33m%\u001b[0m\u001b[1;33m\u001b[0m\u001b[1;33m\u001b[0m\u001b[0m\n\u001b[0;32m   1240\u001b[0m                   self.__class__)\n\u001b[1;32m-> 1241\u001b[1;33m             \u001b[1;32mreturn\u001b[0m \u001b[0mself\u001b[0m\u001b[1;33m.\u001b[0m\u001b[0mread\u001b[0m\u001b[1;33m(\u001b[0m\u001b[0mnbytes\u001b[0m\u001b[1;33m,\u001b[0m \u001b[0mbuffer\u001b[0m\u001b[1;33m)\u001b[0m\u001b[1;33m\u001b[0m\u001b[1;33m\u001b[0m\u001b[0m\n\u001b[0m\u001b[0;32m   1242\u001b[0m         \u001b[1;32melse\u001b[0m\u001b[1;33m:\u001b[0m\u001b[1;33m\u001b[0m\u001b[1;33m\u001b[0m\u001b[0m\n\u001b[0;32m   1243\u001b[0m             \u001b[1;32mreturn\u001b[0m \u001b[0msuper\u001b[0m\u001b[1;33m(\u001b[0m\u001b[1;33m)\u001b[0m\u001b[1;33m.\u001b[0m\u001b[0mrecv_into\u001b[0m\u001b[1;33m(\u001b[0m\u001b[0mbuffer\u001b[0m\u001b[1;33m,\u001b[0m \u001b[0mnbytes\u001b[0m\u001b[1;33m,\u001b[0m \u001b[0mflags\u001b[0m\u001b[1;33m)\u001b[0m\u001b[1;33m\u001b[0m\u001b[1;33m\u001b[0m\u001b[0m\n",
      "\u001b[1;32m~\\AppData\\Local\\Programs\\Python\\Python39\\lib\\ssl.py\u001b[0m in \u001b[0;36mread\u001b[1;34m(self, len, buffer)\u001b[0m\n\u001b[0;32m   1097\u001b[0m         \u001b[1;32mtry\u001b[0m\u001b[1;33m:\u001b[0m\u001b[1;33m\u001b[0m\u001b[1;33m\u001b[0m\u001b[0m\n\u001b[0;32m   1098\u001b[0m             \u001b[1;32mif\u001b[0m \u001b[0mbuffer\u001b[0m \u001b[1;32mis\u001b[0m \u001b[1;32mnot\u001b[0m \u001b[1;32mNone\u001b[0m\u001b[1;33m:\u001b[0m\u001b[1;33m\u001b[0m\u001b[1;33m\u001b[0m\u001b[0m\n\u001b[1;32m-> 1099\u001b[1;33m                 \u001b[1;32mreturn\u001b[0m \u001b[0mself\u001b[0m\u001b[1;33m.\u001b[0m\u001b[0m_sslobj\u001b[0m\u001b[1;33m.\u001b[0m\u001b[0mread\u001b[0m\u001b[1;33m(\u001b[0m\u001b[0mlen\u001b[0m\u001b[1;33m,\u001b[0m \u001b[0mbuffer\u001b[0m\u001b[1;33m)\u001b[0m\u001b[1;33m\u001b[0m\u001b[1;33m\u001b[0m\u001b[0m\n\u001b[0m\u001b[0;32m   1100\u001b[0m             \u001b[1;32melse\u001b[0m\u001b[1;33m:\u001b[0m\u001b[1;33m\u001b[0m\u001b[1;33m\u001b[0m\u001b[0m\n\u001b[0;32m   1101\u001b[0m                 \u001b[1;32mreturn\u001b[0m \u001b[0mself\u001b[0m\u001b[1;33m.\u001b[0m\u001b[0m_sslobj\u001b[0m\u001b[1;33m.\u001b[0m\u001b[0mread\u001b[0m\u001b[1;33m(\u001b[0m\u001b[0mlen\u001b[0m\u001b[1;33m)\u001b[0m\u001b[1;33m\u001b[0m\u001b[1;33m\u001b[0m\u001b[0m\n",
      "\u001b[1;31mConnectionResetError\u001b[0m: [WinError 10054] 远程主机强迫关闭了一个现有的连接。"
     ]
    }
   ],
   "metadata": {}
  },
  {
   "cell_type": "markdown",
   "source": [
    "## PennFudan 数据集的实例细分模型"
   ],
   "metadata": {}
  },
  {
   "cell_type": "markdown",
   "source": [
    "在我们的案例中，由于我们的数据集非常小，我们希望从预训练模型中进行微调，因此我们将遵循方法 1。\r\n",
    "\r\n",
    "这里我们还想计算实例分割掩码，因此我们将使用 Mask R-CNN"
   ],
   "metadata": {}
  },
  {
   "cell_type": "code",
   "execution_count": null,
   "source": [
    "import torchvision\r\n",
    "from torchvision.models.detection.faster_rcnn import FastRCNNPredictor\r\n",
    "from torchvision.models.detection.mask_rcnn import MaskRCNNPredictor\r\n",
    "\r\n",
    "def get_model_instance_segmentation(num_classes):\r\n",
    "    # load an instance segmentation model pre-trained pre-trained on COCO\r\n",
    "    model = torchvision.models.detection.maskrcnn_resnet50_fpn(pretrained=True)\r\n",
    "\r\n",
    "    # get number of input features for the classifier\r\n",
    "    in_features = model.roi_heads.box_predictor.cls_score.in_features\r\n",
    "    # replace the pre-trained head with a new one\r\n",
    "    model.roi_heads.box_predictor = FastRCNNPredictor(in_features, num_classes)\r\n",
    "\r\n",
    "    # now get the number of input features for the mask classifier\r\n",
    "    in_features_mask = model.roi_heads.mask_predictor.conv5_mask.in_channels\r\n",
    "    hidden_layer = 256\r\n",
    "    # and replace the mask predictor with a new one\r\n",
    "    model.roi_heads.mask_predictor = MaskRCNNPredictor(in_features_mask,\r\n",
    "                                                       hidden_layer,\r\n",
    "                                                       num_classes)\r\n",
    "\r\n",
    "    return model"
   ],
   "outputs": [],
   "metadata": {}
  },
  {
   "cell_type": "markdown",
   "source": [
    "## 将所有内容放在一起\r\n",
    "在references/detection/中，我们提供了许多帮助程序功能来简化训练和评估检测模型。 在这里，我们将使用references/detection/engine.py，references/detection/utils.py和references/detection/transforms.py。 只需将它们复制到您的文件夹中，然后在此处使用它们即可。\r\n",
    "\r\n",
    "让我们写一些辅助函数来进行数据扩充/转换"
   ],
   "metadata": {}
  },
  {
   "cell_type": "code",
   "execution_count": null,
   "source": [
    "import transforms as T\r\n",
    "\r\n",
    "def get_transform(train):\r\n",
    "    transforms = []\r\n",
    "    transforms.append(T.ToTensor())\r\n",
    "    if train:\r\n",
    "        transforms.append(T.RandomHorizontalFlip(0.5))\r\n",
    "    return T.Compose(transforms)"
   ],
   "outputs": [],
   "metadata": {}
  },
  {
   "cell_type": "markdown",
   "source": [
    "## 测试forward()方法（可选）"
   ],
   "metadata": {}
  },
  {
   "cell_type": "code",
   "execution_count": null,
   "source": [
    "model = torchvision.models.detection.fasterrcnn_resnet50_fpn(pretrained=True)\r\n",
    "dataset = PennFudanDataset('PennFudanPed', get_transform(train=True))\r\n",
    "data_loader = torch.utils.data.DataLoader(\r\n",
    " dataset, batch_size=2, shuffle=True, num_workers=4,\r\n",
    " collate_fn=utils.collate_fn)\r\n",
    "# For Training\r\n",
    "images,targets = next(iter(data_loader))\r\n",
    "images = list(image for image in images)\r\n",
    "targets = [{k: v for k, v in t.items()} for t in targets]\r\n",
    "output = model(images,targets)   # Returns losses and detections\r\n",
    "# For inference\r\n",
    "model.eval()\r\n",
    "x = [torch.rand(3, 300, 400), torch.rand(3, 500, 400)]\r\n",
    "predictions = model(x)           # Returns predictions"
   ],
   "outputs": [],
   "metadata": {}
  },
  {
   "cell_type": "markdown",
   "source": [
    "现在，我们编写执行训练和验证的main函数："
   ],
   "metadata": {}
  },
  {
   "cell_type": "code",
   "execution_count": null,
   "source": [
    "from engine import train_one_epoch, evaluate\r\n",
    "import utils\r\n",
    "\r\n",
    "def main():\r\n",
    "    # train on the GPU or on the CPU, if a GPU is not available\r\n",
    "    device = torch.device('cuda') if torch.cuda.is_available() else torch.device('cpu')\r\n",
    "\r\n",
    "    # our dataset has two classes only - background and person\r\n",
    "    num_classes = 2\r\n",
    "    # use our dataset and defined transformations\r\n",
    "    dataset = PennFudanDataset('PennFudanPed', get_transform(train=True))\r\n",
    "    dataset_test = PennFudanDataset('PennFudanPed', get_transform(train=False))\r\n",
    "\r\n",
    "    # split the dataset in train and test set\r\n",
    "    indices = torch.randperm(len(dataset)).tolist()\r\n",
    "    dataset = torch.utils.data.Subset(dataset, indices[:-50])\r\n",
    "    dataset_test = torch.utils.data.Subset(dataset_test, indices[-50:])\r\n",
    "\r\n",
    "    # define training and validation data loaders\r\n",
    "    data_loader = torch.utils.data.DataLoader(\r\n",
    "        dataset, batch_size=2, shuffle=True, num_workers=4,\r\n",
    "        collate_fn=utils.collate_fn)\r\n",
    "\r\n",
    "    data_loader_test = torch.utils.data.DataLoader(\r\n",
    "        dataset_test, batch_size=1, shuffle=False, num_workers=4,\r\n",
    "        collate_fn=utils.collate_fn)\r\n",
    "\r\n",
    "    # get the model using our helper function\r\n",
    "    model = get_model_instance_segmentation(num_classes)\r\n",
    "\r\n",
    "    # move model to the right device\r\n",
    "    model.to(device)\r\n",
    "\r\n",
    "    # construct an optimizer\r\n",
    "    params = [p for p in model.parameters() if p.requires_grad]\r\n",
    "    optimizer = torch.optim.SGD(params, lr=0.005,\r\n",
    "                                momentum=0.9, weight_decay=0.0005)\r\n",
    "    # and a learning rate scheduler\r\n",
    "    lr_scheduler = torch.optim.lr_scheduler.StepLR(optimizer,\r\n",
    "                                                   step_size=3,\r\n",
    "                                                   gamma=0.1)\r\n",
    "\r\n",
    "    # let's train it for 10 epochs\r\n",
    "    num_epochs = 10\r\n",
    "\r\n",
    "    for epoch in range(num_epochs):\r\n",
    "        # train for one epoch, printing every 10 iterations\r\n",
    "        train_one_epoch(model, optimizer, data_loader, device, epoch, print_freq=10)\r\n",
    "        # update the learning rate\r\n",
    "        lr_scheduler.step()\r\n",
    "        # evaluate on the test dataset\r\n",
    "        evaluate(model, data_loader_test, device=device)\r\n",
    "\r\n",
    "    print(\"That's it!\")"
   ],
   "outputs": [],
   "metadata": {}
  }
 ],
 "metadata": {
  "orig_nbformat": 4,
  "language_info": {
   "name": "python",
   "version": "3.9.1",
   "mimetype": "text/x-python",
   "codemirror_mode": {
    "name": "ipython",
    "version": 3
   },
   "pygments_lexer": "ipython3",
   "nbconvert_exporter": "python",
   "file_extension": ".py"
  },
  "kernelspec": {
   "name": "python3",
   "display_name": "Python 3.9.1 64-bit"
  },
  "interpreter": {
   "hash": "70f3c038ccd4929d4f5e3f1b4e72d58d2d31a35463a2e52dc84c448bb4aefeb0"
  }
 },
 "nbformat": 4,
 "nbformat_minor": 2
}