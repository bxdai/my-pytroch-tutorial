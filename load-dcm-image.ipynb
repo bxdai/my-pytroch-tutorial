{
 "cells": [
  {
   "cell_type": "code",
   "execution_count": 1,
   "source": [
    "!python -c \"import monai\" || pip install -q \"monai-weekly[itk, pillow]\""
   ],
   "outputs": [],
   "metadata": {}
  },
  {
   "cell_type": "code",
   "execution_count": 2,
   "source": [
    "import os\r\n",
    "import shutil\r\n",
    "import numpy as np\r\n",
    "import itk\r\n",
    "from PIL import Image\r\n",
    "import tempfile\r\n",
    "#from monai.data import ITKReader, PILReader\r\n",
    "from monai.transforms import (\r\n",
    "    LoadImage, LoadImaged, EnsureChannelFirstd,\r\n",
    "    Resized, EnsureTyped, Compose,ScaleIntensityd,\r\n",
    "    EnsureChannelFirst,\r\n",
    "    ScaleIntensity,\r\n",
    "    EnsureType,\r\n",
    "    SqueezeDimd,\r\n",
    "    AddChanneld,\r\n",
    "    AddChannel,\r\n",
    "    CropForegroundd,\r\n",
    "    ToTensord,\r\n",
    "    AsChannelFirstd\r\n",
    ")\r\n",
    "from monai.config import print_config\r\n",
    "\r\n",
    "print_config()"
   ],
   "outputs": [
    {
     "output_type": "stream",
     "name": "stdout",
     "text": [
      "MONAI version: 0.7.dev2135\n",
      "Numpy version: 1.21.1\n",
      "Pytorch version: 1.7.1+cu101\n",
      "MONAI flags: HAS_EXT = False, USE_COMPILED = False\n",
      "MONAI rev id: fc69e1d96c6250c6479ea7575b9e6f73e70b8baf\n",
      "\n",
      "Optional dependencies:\n",
      "Pytorch Ignite version: 0.4.5\n",
      "Nibabel version: 3.2.1\n",
      "scikit-image version: 0.18.3\n",
      "Pillow version: 8.0.1\n",
      "Tensorboard version: 2.6.0\n",
      "gdown version: 3.13.0\n",
      "TorchVision version: 0.8.2+cu101\n",
      "tqdm version: 4.62.2\n",
      "lmdb version: 1.2.1\n",
      "psutil version: 5.8.0\n",
      "pandas version: 1.3.2\n",
      "einops version: 0.3.2\n",
      "\n",
      "For details about installing the optional dependencies, please visit:\n",
      "    https://docs.monai.io/en/latest/installation.html#installing-the-recommended-dependencies\n",
      "\n"
     ]
    }
   ],
   "metadata": {}
  },
  {
   "cell_type": "code",
   "execution_count": 22,
   "source": [
    "newdcmDir = \"C:/Users/Bxd/remote/data_circle/data/imagesTest/BaiYuShuang(278172)_00E351A0.DCM\"\r\n",
    "newnii = \"C:/Users/Bxd/remote/data_circle/data/imagesTest/img521.nii.gz\"\r\n",
    "# data, meta = LoadImage()(filename)\r\n",
    "data = LoadImage(image_only=True)(newdcmDir)\r\n",
    "# img = LoadImage(dtype=np.float32)(newdcmDir)\r\n",
    "print(f\"image data shape:{data.shape}\")\r\n",
    "print(f\"image data type:{type(data)}\")\r\n",
    "x = np.asarray(data)\r\n",
    "print(f\"image data shape:{x.shape}\")\r\n",
    "print(f\"image data type:{type(x)}\")\r\n",
    "print(f\"meta data:{meta}\")\r\n",
    "# print(data)"
   ],
   "outputs": [
    {
     "output_type": "stream",
     "name": "stdout",
     "text": [
      "image data shape:(512, 512, 1)\n",
      "image data type:<class 'itk.itkPyBufferPython.NDArrayITKBase'>\n",
      "image data shape:(512, 512, 1)\n",
      "image data type:<class 'numpy.ndarray'>\n",
      "meta data:{'0008|0000': '464', '0008|0005': 'ISO_IR 100', '0008|0008': 'DERIVED\\\\SECONDARY\\\\PJN\\\\MIP ', '0008|0012': '20111118', '0008|0013': '112046', '0008|0016': '1.2.840.10008.5.1.4.1.1.4', '0008|0018': '1.2.840.113619.2.80.974205856.3089.1321586446.13', '0008|0020': '20111118', '0008|0021': '20111118', '0008|0022': '20111118', '0008|0023': '20111118', '0008|0030': '111327', '0008|0031': '112042', '0008|0032': '111437', '0008|0033': '112046', '0008|0050': 'M52287', '0008|0060': 'MR', '0008|0070': 'GE MEDICAL SYSTEMS', '0008|0080': 'Beijing General Navy Hospital ', '0008|0090': '', '0008|1010': 'GEHCGEHC', '0008|1030': 'H+MRA ', '0008|103e': 'PJN ', '0008|1090': 'Signa HDxt', '0010|0000': '84', '0010|0010': 'Bai Yu Shuang ', '0010|0020': '278172', '0010|0030': '19390405', '0010|0040': 'F ', '0010|1010': '072Y', '0010|1030': '55', '0018|0000': '550', '0018|0020': 'GR', '0018|0021': 'SS\\\\SP ', '0018|0022': 'FC\\\\SAT_GEMS\\\\EDR_GEMS\\\\MT_GEMS\\\\FILTERED_GEMS\\\\ACC_GEMS\\\\VASCTOF_GEMS\\\\PFF\\\\SP\\\\FS', '0018|0023': '3D', '0018|0025': 'N ', '0018|0050': '1.200000048 ', '0018|0080': '22', '0018|0081': '2.3 ', '0018|0083': '1 ', '0018|0084': '127.647335', '0018|0085': '1H', '0018|0086': '1 ', '0018|0087': '3 ', '0018|0091': '1 ', '0018|0093': '100 ', '0018|0094': '94', '0018|0095': '162.7729982 ', '0018|1000': '000000000000GEHC', '0018|1016': 'GE MEDICAL SYSTEMS', '0018|1018': 'Volume Viewer ', '0018|1019': '6.4.52o ', '0018|1020': '15\\\\LX\\\\MR Software release:15.0_M4_0910.a', '0018|1030': 'HEAD+DW+MRA/7 ', '0018|1088': '0 ', '0018|1094': '0 ', '0018|1250': 'HDNV Head ', '0018|1310': '0\\\\320\\\\192\\\\0', '0018|1312': 'ROW ', '0018|1314': '15', '0018|1315': 'N ', '0018|1316': '1.82141 ', '0018|5100': 'HFS ', '0020|0000': '360', '0020|000d': '1.2.840.78.75.7.5.28894.1321585751', '0020|000e': '1.2.840.113619.2.80.974205856.3089.1321586442.1.0.2', '0020|0010': '9691', '0020|0011': '300 ', '0020|0012': '1 ', '0020|0013': '12', '0020|0032': '-97.11410522\\\\67.57743835\\\\26.93981361', '0020|0037': '0.9949689507\\\\-0.06076262891\\\\0.07965371013\\\\-0.01305441745\\\\-0.8668424487\\\\-0.4984112382', '0020|0052': '1.2.840.113619.2.244.6945.1127328.26985.1321255217.232', '0020|0060': '', '0020|1040': '', '0028|0000': '148', '0028|0002': '1', '0028|0004': 'MONOCHROME2 ', '0028|0010': '512', '0028|0011': '512', '0028|0030': '0.3905749917\\\\0.3905749917 ', '0028|0100': '16', '0028|0101': '16', '0028|0102': '15', '0028|0103': '1', '0028|1050': '541 ', '0028|1051': '674 ', '0040|0000': '126', '0040|0244': '20111118', '0040|0245': '111327', '0040|0253': '9691', '0040|0254': 'post-processing application ', '7fe0|0000': '524296', 'spacing': array([0.39057499, 0.39057499, 1.        ]), 'original_affine': array([[-3.88609896e-01,  5.09872896e-03, -9.93319925e-02,\n",
      "         9.71141052e+01],\n",
      "       [ 2.37382603e-02,  3.38566980e-01, -4.94863865e-01,\n",
      "        -6.75774383e+01],\n",
      "       [ 3.11073560e-02, -1.94666964e-01, -8.63274528e-01,\n",
      "         2.69398136e+01],\n",
      "       [ 0.00000000e+00,  0.00000000e+00,  0.00000000e+00,\n",
      "         1.00000000e+00]]), 'affine': array([[-3.88609896e-01,  5.09872896e-03, -9.93319925e-02,\n",
      "         9.71141052e+01],\n",
      "       [ 2.37382603e-02,  3.38566980e-01, -4.94863865e-01,\n",
      "        -6.75774383e+01],\n",
      "       [ 3.11073560e-02, -1.94666964e-01, -8.63274528e-01,\n",
      "         2.69398136e+01],\n",
      "       [ 0.00000000e+00,  0.00000000e+00,  0.00000000e+00,\n",
      "         1.00000000e+00]]), 'spatial_shape': array([512, 512,   1]), 'original_channel_dim': 'no_channel', 'filename_or_obj': 'C:/Users/Bxd/remote/data_circle/data/imagesTest/BaiYuShuang(278172)_00E351A0.DCM'}\n"
     ]
    }
   ],
   "metadata": {}
  },
  {
   "cell_type": "code",
   "execution_count": 19,
   "source": [
    "addc = AddChannel()\r\n",
    "addcimg = addc(x)\r\n",
    "print(f\"image data shape:{addcimg.shape}\")\r\n",
    "print(f\"image data type:{type(addcimg)}\")"
   ],
   "outputs": [
    {
     "output_type": "stream",
     "name": "stdout",
     "text": [
      "image data shape:(1, 512, 512, 1)\n",
      "image data type:<class 'numpy.ndarray'>\n"
     ]
    }
   ],
   "metadata": {}
  },
  {
   "cell_type": "code",
   "execution_count": 20,
   "source": [
    "scI = ScaleIntensity()\r\n",
    "\r\n",
    "scImg1 = scI(addcimg)\r\n",
    "print(f\"image data shape:{scImg1.shape}\")\r\n",
    "print(f\"image data type:{type(scImg1)}\")"
   ],
   "outputs": [
    {
     "output_type": "stream",
     "name": "stdout",
     "text": [
      "image data shape:(1, 512, 512, 1)\n",
      "image data type:<class 'numpy.ndarray'>\n"
     ]
    }
   ],
   "metadata": {}
  },
  {
   "cell_type": "code",
   "execution_count": 13,
   "source": [
    "test_data = {\"image\": newdcmDir}\r\n",
    "imgdata = LoadImaged(keys=\"image\",dtype=np.float32)(test_data)\r\n",
    "print(f\"image data shape:{imgdata['image'].shape}\")\r\n",
    "print(f\"image data type:{type(imgdata['image'])}\")"
   ],
   "outputs": [
    {
     "output_type": "stream",
     "name": "stdout",
     "text": [
      "image data shape:(1024, 1024, 1)\n",
      "image data type:<class 'itk.itkPyBufferPython.NDArrayITKBase'>\n"
     ]
    }
   ],
   "metadata": {}
  },
  {
   "cell_type": "code",
   "execution_count": 4,
   "source": [
    "sd =  SqueezeDimd(keys=\"image\", dim=-1)\r\n",
    "img = sd(imgdata)"
   ],
   "outputs": [],
   "metadata": {}
  },
  {
   "cell_type": "code",
   "execution_count": 10,
   "source": [
    "import os\r\n",
    "import shutil\r\n",
    "import numpy as np\r\n",
    "import itk\r\n",
    "from PIL import Image\r\n",
    "import tempfile\r\n",
    "#from monai.data import ITKReader, PILReader\r\n",
    "from monai.transforms import (\r\n",
    "    LoadImage, LoadImaged, EnsureChannelFirstd,\r\n",
    "    Resized, EnsureTyped, Compose,ScaleIntensityd,\r\n",
    "    EnsureChannelFirst,\r\n",
    "    ScaleIntensity,\r\n",
    "    EnsureType,\r\n",
    "    SqueezeDimd,\r\n",
    "    AddChanneld,\r\n",
    "    CropForegroundd,\r\n",
    "    ToTensord,\r\n",
    "    AsChannelFirstd\r\n",
    ")\r\n",
    "from monai.config import print_config\r\n",
    "\r\n",
    "print_config()"
   ],
   "outputs": [
    {
     "output_type": "stream",
     "name": "stdout",
     "text": [
      "MONAI version: 0.7.dev2135\n",
      "Numpy version: 1.21.1\n",
      "Pytorch version: 1.7.1+cu101\n",
      "MONAI flags: HAS_EXT = False, USE_COMPILED = False\n",
      "MONAI rev id: fc69e1d96c6250c6479ea7575b9e6f73e70b8baf\n",
      "\n",
      "Optional dependencies:\n",
      "Pytorch Ignite version: 0.4.5\n",
      "Nibabel version: 3.2.1\n",
      "scikit-image version: 0.18.3\n",
      "Pillow version: 8.0.1\n",
      "Tensorboard version: 2.6.0\n",
      "gdown version: 3.13.0\n",
      "TorchVision version: 0.8.2+cu101\n",
      "tqdm version: 4.62.2\n",
      "lmdb version: 1.2.1\n",
      "psutil version: 5.8.0\n",
      "pandas version: 1.3.2\n",
      "einops version: 0.3.2\n",
      "\n",
      "For details about installing the optional dependencies, please visit:\n",
      "    https://docs.monai.io/en/latest/installation.html#installing-the-recommended-dependencies\n",
      "\n"
     ]
    }
   ],
   "metadata": {}
  },
  {
   "cell_type": "code",
   "execution_count": 5,
   "source": [
    "add = AddChanneld(keys=\"image\")\r\n",
    "adimg = add(img)\r\n",
    "print(f\"image data shape:{adimg['image'].shape}\")\r\n",
    "print(f\"image data type:{type(adimg['image'])}\")"
   ],
   "outputs": [
    {
     "output_type": "stream",
     "name": "stdout",
     "text": [
      "image data shape:(1, 1024, 1024)\n",
      "image data type:<class 'itk.itkPyBufferPython.NDArrayITKBase'>\n"
     ]
    }
   ],
   "metadata": {}
  },
  {
   "cell_type": "code",
   "execution_count": 10,
   "source": [
    "sc = ScaleIntensityd(keys=\"image\")\r\n",
    "\r\n",
    "scImg = sc(adimg)\r\n",
    "print(f\"image data shape:{scImg['image'].shape}\")\r\n",
    "print(f\"image data type:{type(scImg['image'])}\")"
   ],
   "outputs": [
    {
     "output_type": "error",
     "ename": "ValueError",
     "evalue": "Unsupported output type: <class 'itk.itkPyBufferPython.NDArrayITKBase'>",
     "traceback": [
      "\u001b[1;31m---------------------------------------------------------------------------\u001b[0m",
      "\u001b[1;31mValueError\u001b[0m                                Traceback (most recent call last)",
      "\u001b[1;32mC:\\Users\\Public\\Documents\\Wondershare\\CreatorTemp/ipykernel_12156/3347077524.py\u001b[0m in \u001b[0;36m<module>\u001b[1;34m\u001b[0m\n\u001b[0;32m      1\u001b[0m \u001b[0msc\u001b[0m \u001b[1;33m=\u001b[0m \u001b[0mScaleIntensityd\u001b[0m\u001b[1;33m(\u001b[0m\u001b[0mkeys\u001b[0m\u001b[1;33m=\u001b[0m\u001b[1;34m\"image\"\u001b[0m\u001b[1;33m)\u001b[0m\u001b[1;33m\u001b[0m\u001b[1;33m\u001b[0m\u001b[0m\n\u001b[0;32m      2\u001b[0m \u001b[1;33m\u001b[0m\u001b[0m\n\u001b[1;32m----> 3\u001b[1;33m \u001b[0mscImg\u001b[0m \u001b[1;33m=\u001b[0m \u001b[0msc\u001b[0m\u001b[1;33m(\u001b[0m\u001b[0madimg\u001b[0m\u001b[1;33m)\u001b[0m\u001b[1;33m\u001b[0m\u001b[1;33m\u001b[0m\u001b[0m\n\u001b[0m\u001b[0;32m      4\u001b[0m \u001b[0mprint\u001b[0m\u001b[1;33m(\u001b[0m\u001b[1;34mf\"image data shape:{scImg['image'].shape}\"\u001b[0m\u001b[1;33m)\u001b[0m\u001b[1;33m\u001b[0m\u001b[1;33m\u001b[0m\u001b[0m\n\u001b[0;32m      5\u001b[0m \u001b[0mprint\u001b[0m\u001b[1;33m(\u001b[0m\u001b[1;34mf\"image data type:{type(scImg['image'])}\"\u001b[0m\u001b[1;33m)\u001b[0m\u001b[1;33m\u001b[0m\u001b[1;33m\u001b[0m\u001b[0m\n",
      "\u001b[1;32mc:\\Users\\Bxd\\pytest\\lib\\site-packages\\monai\\transforms\\intensity\\dictionary.py\u001b[0m in \u001b[0;36m__call__\u001b[1;34m(self, data)\u001b[0m\n\u001b[0;32m    504\u001b[0m         \u001b[0md\u001b[0m \u001b[1;33m=\u001b[0m \u001b[0mdict\u001b[0m\u001b[1;33m(\u001b[0m\u001b[0mdata\u001b[0m\u001b[1;33m)\u001b[0m\u001b[1;33m\u001b[0m\u001b[1;33m\u001b[0m\u001b[0m\n\u001b[0;32m    505\u001b[0m         \u001b[1;32mfor\u001b[0m \u001b[0mkey\u001b[0m \u001b[1;32min\u001b[0m \u001b[0mself\u001b[0m\u001b[1;33m.\u001b[0m\u001b[0mkey_iterator\u001b[0m\u001b[1;33m(\u001b[0m\u001b[0md\u001b[0m\u001b[1;33m)\u001b[0m\u001b[1;33m:\u001b[0m\u001b[1;33m\u001b[0m\u001b[1;33m\u001b[0m\u001b[0m\n\u001b[1;32m--> 506\u001b[1;33m             \u001b[0md\u001b[0m\u001b[1;33m[\u001b[0m\u001b[0mkey\u001b[0m\u001b[1;33m]\u001b[0m \u001b[1;33m=\u001b[0m \u001b[0mself\u001b[0m\u001b[1;33m.\u001b[0m\u001b[0mscaler\u001b[0m\u001b[1;33m(\u001b[0m\u001b[0md\u001b[0m\u001b[1;33m[\u001b[0m\u001b[0mkey\u001b[0m\u001b[1;33m]\u001b[0m\u001b[1;33m)\u001b[0m\u001b[1;33m\u001b[0m\u001b[1;33m\u001b[0m\u001b[0m\n\u001b[0m\u001b[0;32m    507\u001b[0m         \u001b[1;32mreturn\u001b[0m \u001b[0md\u001b[0m\u001b[1;33m\u001b[0m\u001b[1;33m\u001b[0m\u001b[0m\n\u001b[0;32m    508\u001b[0m \u001b[1;33m\u001b[0m\u001b[0m\n",
      "\u001b[1;32mc:\\Users\\Bxd\\pytest\\lib\\site-packages\\monai\\transforms\\intensity\\array.py\u001b[0m in \u001b[0;36m__call__\u001b[1;34m(self, img)\u001b[0m\n\u001b[0;32m    401\u001b[0m         \"\"\"\n\u001b[0;32m    402\u001b[0m         \u001b[1;32mif\u001b[0m \u001b[0mself\u001b[0m\u001b[1;33m.\u001b[0m\u001b[0mminv\u001b[0m \u001b[1;32mis\u001b[0m \u001b[1;32mnot\u001b[0m \u001b[1;32mNone\u001b[0m \u001b[1;32mand\u001b[0m \u001b[0mself\u001b[0m\u001b[1;33m.\u001b[0m\u001b[0mmaxv\u001b[0m \u001b[1;32mis\u001b[0m \u001b[1;32mnot\u001b[0m \u001b[1;32mNone\u001b[0m\u001b[1;33m:\u001b[0m\u001b[1;33m\u001b[0m\u001b[1;33m\u001b[0m\u001b[0m\n\u001b[1;32m--> 403\u001b[1;33m             \u001b[1;32mreturn\u001b[0m \u001b[0mrescale_array\u001b[0m\u001b[1;33m(\u001b[0m\u001b[0mimg\u001b[0m\u001b[1;33m,\u001b[0m \u001b[0mself\u001b[0m\u001b[1;33m.\u001b[0m\u001b[0mminv\u001b[0m\u001b[1;33m,\u001b[0m \u001b[0mself\u001b[0m\u001b[1;33m.\u001b[0m\u001b[0mmaxv\u001b[0m\u001b[1;33m,\u001b[0m \u001b[0mimg\u001b[0m\u001b[1;33m.\u001b[0m\u001b[0mdtype\u001b[0m\u001b[1;33m)\u001b[0m\u001b[1;33m\u001b[0m\u001b[1;33m\u001b[0m\u001b[0m\n\u001b[0m\u001b[0;32m    404\u001b[0m         \u001b[1;32mif\u001b[0m \u001b[0mself\u001b[0m\u001b[1;33m.\u001b[0m\u001b[0mfactor\u001b[0m \u001b[1;32mis\u001b[0m \u001b[1;32mnot\u001b[0m \u001b[1;32mNone\u001b[0m\u001b[1;33m:\u001b[0m\u001b[1;33m\u001b[0m\u001b[1;33m\u001b[0m\u001b[0m\n\u001b[0;32m    405\u001b[0m             \u001b[0mout\u001b[0m \u001b[1;33m=\u001b[0m \u001b[0mimg\u001b[0m \u001b[1;33m*\u001b[0m \u001b[1;33m(\u001b[0m\u001b[1;36m1\u001b[0m \u001b[1;33m+\u001b[0m \u001b[0mself\u001b[0m\u001b[1;33m.\u001b[0m\u001b[0mfactor\u001b[0m\u001b[1;33m)\u001b[0m\u001b[1;33m\u001b[0m\u001b[1;33m\u001b[0m\u001b[0m\n",
      "\u001b[1;32mc:\\Users\\Bxd\\pytest\\lib\\site-packages\\monai\\transforms\\utils.py\u001b[0m in \u001b[0;36mrescale_array\u001b[1;34m(arr, minv, maxv, dtype)\u001b[0m\n\u001b[0;32m    142\u001b[0m     \"\"\"\n\u001b[0;32m    143\u001b[0m     \u001b[1;32mif\u001b[0m \u001b[0mdtype\u001b[0m \u001b[1;32mis\u001b[0m \u001b[1;32mnot\u001b[0m \u001b[1;32mNone\u001b[0m\u001b[1;33m:\u001b[0m\u001b[1;33m\u001b[0m\u001b[1;33m\u001b[0m\u001b[0m\n\u001b[1;32m--> 144\u001b[1;33m         \u001b[0marr\u001b[0m\u001b[1;33m,\u001b[0m \u001b[1;33m*\u001b[0m\u001b[0m_\u001b[0m \u001b[1;33m=\u001b[0m \u001b[0mconvert_data_type\u001b[0m\u001b[1;33m(\u001b[0m\u001b[0marr\u001b[0m\u001b[1;33m,\u001b[0m \u001b[0mdtype\u001b[0m\u001b[1;33m=\u001b[0m\u001b[0mdtype\u001b[0m\u001b[1;33m)\u001b[0m\u001b[1;33m\u001b[0m\u001b[1;33m\u001b[0m\u001b[0m\n\u001b[0m\u001b[0;32m    145\u001b[0m \u001b[1;33m\u001b[0m\u001b[0m\n\u001b[0;32m    146\u001b[0m     \u001b[0mmina\u001b[0m \u001b[1;33m=\u001b[0m \u001b[0marr\u001b[0m\u001b[1;33m.\u001b[0m\u001b[0mmin\u001b[0m\u001b[1;33m(\u001b[0m\u001b[1;33m)\u001b[0m\u001b[1;33m\u001b[0m\u001b[1;33m\u001b[0m\u001b[0m\n",
      "\u001b[1;32mc:\\Users\\Bxd\\pytest\\lib\\site-packages\\monai\\utils\\type_conversion.py\u001b[0m in \u001b[0;36mconvert_data_type\u001b[1;34m(data, output_type, device, dtype)\u001b[0m\n\u001b[0;32m    185\u001b[0m             \u001b[0mdata\u001b[0m \u001b[1;33m=\u001b[0m \u001b[0mdata\u001b[0m\u001b[1;33m.\u001b[0m\u001b[0mastype\u001b[0m\u001b[1;33m(\u001b[0m\u001b[0mdtype\u001b[0m\u001b[1;33m)\u001b[0m\u001b[1;33m\u001b[0m\u001b[1;33m\u001b[0m\u001b[0m\n\u001b[0;32m    186\u001b[0m     \u001b[1;32melse\u001b[0m\u001b[1;33m:\u001b[0m\u001b[1;33m\u001b[0m\u001b[1;33m\u001b[0m\u001b[0m\n\u001b[1;32m--> 187\u001b[1;33m         \u001b[1;32mraise\u001b[0m \u001b[0mValueError\u001b[0m\u001b[1;33m(\u001b[0m\u001b[1;34mf\"Unsupported output type: {output_type}\"\u001b[0m\u001b[1;33m)\u001b[0m\u001b[1;33m\u001b[0m\u001b[1;33m\u001b[0m\u001b[0m\n\u001b[0m\u001b[0;32m    188\u001b[0m     \u001b[1;32mreturn\u001b[0m \u001b[0mdata\u001b[0m\u001b[1;33m,\u001b[0m \u001b[0morig_type\u001b[0m\u001b[1;33m,\u001b[0m \u001b[0morig_device\u001b[0m\u001b[1;33m\u001b[0m\u001b[1;33m\u001b[0m\u001b[0m\n\u001b[0;32m    189\u001b[0m \u001b[1;33m\u001b[0m\u001b[0m\n",
      "\u001b[1;31mValueError\u001b[0m: Unsupported output type: <class 'itk.itkPyBufferPython.NDArrayITKBase'>"
     ]
    }
   ],
   "metadata": {}
  },
  {
   "cell_type": "code",
   "execution_count": 16,
   "source": [
    "transform = Compose([\r\n",
    "    LoadImaged(keys=\"image\"),\r\n",
    "    SqueezeDimd(keys=\"image\", dim=-1),\r\n",
    "    AddChanneld(keys=\"image\"),\r\n",
    "    ScaleIntensityd(\"image\"),\r\n",
    "    CropForegroundd(keys=\"image\", source_key=\"image\"),\r\n",
    "    EnsureTyped(keys=\"image\"),\r\n",
    "])\r\n",
    "\r\n",
    "test_data = {\"image\": newdcmDir}\r\n",
    "print(f\"filename:{newdcmDir}\")\r\n",
    "result = transform(test_data)\r\n",
    "#print(f\"image data shape:{result['image'].shape}\")\r\n",
    "#print(f\"meta data:{result['image_meta_dict']}\")\r\n"
   ],
   "outputs": [
    {
     "output_type": "stream",
     "name": "stdout",
     "text": [
      "filename:C:/Users/Bxd/remote/data_circle/data/imagesTest/BaiYuShuang(278172)_00E351A0.DCM\n",
      "\n",
      "=== Transform input info -- ScaleIntensityd ===\n",
      "image statistics:\n",
      "Type: <class 'itk.itkPyBufferPython.NDArrayITKBase'>\n",
      "Shape: (1, 512, 512)\n",
      "Value range: (0.0, 925.0)\n",
      "image_meta_dict statistics:\n",
      "Type: <class 'dict'>\n",
      "Value: {'0008|0000': '464', '0008|0005': 'ISO_IR 100', '0008|0008': 'DERIVED\\\\SECONDARY\\\\PJN\\\\MIP ', '0008|0012': '20111118', '0008|0013': '112046', '0008|0016': '1.2.840.10008.5.1.4.1.1.4', '0008|0018': '1.2.840.113619.2.80.974205856.3089.1321586446.13', '0008|0020': '20111118', '0008|0021': '20111118', '0008|0022': '20111118', '0008|0023': '20111118', '0008|0030': '111327', '0008|0031': '112042', '0008|0032': '111437', '0008|0033': '112046', '0008|0050': 'M52287', '0008|0060': 'MR', '0008|0070': 'GE MEDICAL SYSTEMS', '0008|0080': 'Beijing General Navy Hospital ', '0008|0090': '', '0008|1010': 'GEHCGEHC', '0008|1030': 'H+MRA ', '0008|103e': 'PJN ', '0008|1090': 'Signa HDxt', '0010|0000': '84', '0010|0010': 'Bai Yu Shuang ', '0010|0020': '278172', '0010|0030': '19390405', '0010|0040': 'F ', '0010|1010': '072Y', '0010|1030': '55', '0018|0000': '550', '0018|0020': 'GR', '0018|0021': 'SS\\\\SP ', '0018|0022': 'FC\\\\SAT_GEMS\\\\EDR_GEMS\\\\MT_GEMS\\\\FILTERED_GEMS\\\\ACC_GEMS\\\\VASCTOF_GEMS\\\\PFF\\\\SP\\\\FS', '0018|0023': '3D', '0018|0025': 'N ', '0018|0050': '1.200000048 ', '0018|0080': '22', '0018|0081': '2.3 ', '0018|0083': '1 ', '0018|0084': '127.647335', '0018|0085': '1H', '0018|0086': '1 ', '0018|0087': '3 ', '0018|0091': '1 ', '0018|0093': '100 ', '0018|0094': '94', '0018|0095': '162.7729982 ', '0018|1000': '000000000000GEHC', '0018|1016': 'GE MEDICAL SYSTEMS', '0018|1018': 'Volume Viewer ', '0018|1019': '6.4.52o ', '0018|1020': '15\\\\LX\\\\MR Software release:15.0_M4_0910.a', '0018|1030': 'HEAD+DW+MRA/7 ', '0018|1088': '0 ', '0018|1094': '0 ', '0018|1250': 'HDNV Head ', '0018|1310': '0\\\\320\\\\192\\\\0', '0018|1312': 'ROW ', '0018|1314': '15', '0018|1315': 'N ', '0018|1316': '1.82141 ', '0018|5100': 'HFS ', '0020|0000': '360', '0020|000d': '1.2.840.78.75.7.5.28894.1321585751', '0020|000e': '1.2.840.113619.2.80.974205856.3089.1321586442.1.0.2', '0020|0010': '9691', '0020|0011': '300 ', '0020|0012': '1 ', '0020|0013': '12', '0020|0032': '-97.11410522\\\\67.57743835\\\\26.93981361', '0020|0037': '0.9949689507\\\\-0.06076262891\\\\0.07965371013\\\\-0.01305441745\\\\-0.8668424487\\\\-0.4984112382', '0020|0052': '1.2.840.113619.2.244.6945.1127328.26985.1321255217.232', '0020|0060': '', '0020|1040': '', '0028|0000': '148', '0028|0002': '1', '0028|0004': 'MONOCHROME2 ', '0028|0010': '512', '0028|0011': '512', '0028|0030': '0.3905749917\\\\0.3905749917 ', '0028|0100': '16', '0028|0101': '16', '0028|0102': '15', '0028|0103': '1', '0028|1050': '541 ', '0028|1051': '674 ', '0040|0000': '126', '0040|0244': '20111118', '0040|0245': '111327', '0040|0253': '9691', '0040|0254': 'post-processing application ', '7fe0|0000': '524296', 'spacing': array([0.39057499, 0.39057499, 1.        ]), 'original_affine': array([[-3.88609896e-01,  5.09872896e-03, -9.93319925e-02,\n",
      "         9.71141052e+01],\n",
      "       [ 2.37382603e-02,  3.38566980e-01, -4.94863865e-01,\n",
      "        -6.75774383e+01],\n",
      "       [ 3.11073560e-02, -1.94666964e-01, -8.63274528e-01,\n",
      "         2.69398136e+01],\n",
      "       [ 0.00000000e+00,  0.00000000e+00,  0.00000000e+00,\n",
      "         1.00000000e+00]]), 'affine': array([[-3.88609896e-01,  5.09872896e-03, -9.93319925e-02,\n",
      "         9.71141052e+01],\n",
      "       [ 2.37382603e-02,  3.38566980e-01, -4.94863865e-01,\n",
      "        -6.75774383e+01],\n",
      "       [ 3.11073560e-02, -1.94666964e-01, -8.63274528e-01,\n",
      "         2.69398136e+01],\n",
      "       [ 0.00000000e+00,  0.00000000e+00,  0.00000000e+00,\n",
      "         1.00000000e+00]]), 'spatial_shape': array([512, 512,   1]), 'original_channel_dim': 'no_channel', 'filename_or_obj': 'C:/Users/Bxd/remote/data_circle/data/imagesTest/BaiYuShuang(278172)_00E351A0.DCM'}\n"
     ]
    },
    {
     "output_type": "error",
     "ename": "RuntimeError",
     "evalue": "applying transform <monai.transforms.intensity.dictionary.ScaleIntensityd object at 0x0000026ECABE41C0>",
     "traceback": [
      "\u001b[1;31m---------------------------------------------------------------------------\u001b[0m",
      "\u001b[1;31mValueError\u001b[0m                                Traceback (most recent call last)",
      "\u001b[1;32m~\\AppData\\Local\\Programs\\Python\\Python39\\lib\\site-packages\\monai\\transforms\\transform.py\u001b[0m in \u001b[0;36mapply_transform\u001b[1;34m(transform, data, map_items, unpack_items)\u001b[0m\n\u001b[0;32m     91\u001b[0m             \u001b[1;32mreturn\u001b[0m \u001b[1;33m[\u001b[0m\u001b[0m_apply_transform\u001b[0m\u001b[1;33m(\u001b[0m\u001b[0mtransform\u001b[0m\u001b[1;33m,\u001b[0m \u001b[0mitem\u001b[0m\u001b[1;33m,\u001b[0m \u001b[0munpack_items\u001b[0m\u001b[1;33m)\u001b[0m \u001b[1;32mfor\u001b[0m \u001b[0mitem\u001b[0m \u001b[1;32min\u001b[0m \u001b[0mdata\u001b[0m\u001b[1;33m]\u001b[0m\u001b[1;33m\u001b[0m\u001b[1;33m\u001b[0m\u001b[0m\n\u001b[1;32m---> 92\u001b[1;33m         \u001b[1;32mreturn\u001b[0m \u001b[0m_apply_transform\u001b[0m\u001b[1;33m(\u001b[0m\u001b[0mtransform\u001b[0m\u001b[1;33m,\u001b[0m \u001b[0mdata\u001b[0m\u001b[1;33m,\u001b[0m \u001b[0munpack_items\u001b[0m\u001b[1;33m)\u001b[0m\u001b[1;33m\u001b[0m\u001b[1;33m\u001b[0m\u001b[0m\n\u001b[0m\u001b[0;32m     93\u001b[0m     \u001b[1;32mexcept\u001b[0m \u001b[0mException\u001b[0m \u001b[1;32mas\u001b[0m \u001b[0me\u001b[0m\u001b[1;33m:\u001b[0m\u001b[1;33m\u001b[0m\u001b[1;33m\u001b[0m\u001b[0m\n",
      "\u001b[1;32m~\\AppData\\Local\\Programs\\Python\\Python39\\lib\\site-packages\\monai\\transforms\\transform.py\u001b[0m in \u001b[0;36m_apply_transform\u001b[1;34m(transform, parameters, unpack_parameters)\u001b[0m\n\u001b[0;32m     59\u001b[0m \u001b[1;33m\u001b[0m\u001b[0m\n\u001b[1;32m---> 60\u001b[1;33m     \u001b[1;32mreturn\u001b[0m \u001b[0mtransform\u001b[0m\u001b[1;33m(\u001b[0m\u001b[0mparameters\u001b[0m\u001b[1;33m)\u001b[0m\u001b[1;33m\u001b[0m\u001b[1;33m\u001b[0m\u001b[0m\n\u001b[0m\u001b[0;32m     61\u001b[0m \u001b[1;33m\u001b[0m\u001b[0m\n",
      "\u001b[1;32m~\\AppData\\Local\\Programs\\Python\\Python39\\lib\\site-packages\\monai\\transforms\\intensity\\dictionary.py\u001b[0m in \u001b[0;36m__call__\u001b[1;34m(self, data)\u001b[0m\n\u001b[0;32m    505\u001b[0m         \u001b[1;32mfor\u001b[0m \u001b[0mkey\u001b[0m \u001b[1;32min\u001b[0m \u001b[0mself\u001b[0m\u001b[1;33m.\u001b[0m\u001b[0mkey_iterator\u001b[0m\u001b[1;33m(\u001b[0m\u001b[0md\u001b[0m\u001b[1;33m)\u001b[0m\u001b[1;33m:\u001b[0m\u001b[1;33m\u001b[0m\u001b[1;33m\u001b[0m\u001b[0m\n\u001b[1;32m--> 506\u001b[1;33m             \u001b[0md\u001b[0m\u001b[1;33m[\u001b[0m\u001b[0mkey\u001b[0m\u001b[1;33m]\u001b[0m \u001b[1;33m=\u001b[0m \u001b[0mself\u001b[0m\u001b[1;33m.\u001b[0m\u001b[0mscaler\u001b[0m\u001b[1;33m(\u001b[0m\u001b[0md\u001b[0m\u001b[1;33m[\u001b[0m\u001b[0mkey\u001b[0m\u001b[1;33m]\u001b[0m\u001b[1;33m)\u001b[0m\u001b[1;33m\u001b[0m\u001b[1;33m\u001b[0m\u001b[0m\n\u001b[0m\u001b[0;32m    507\u001b[0m         \u001b[1;32mreturn\u001b[0m \u001b[0md\u001b[0m\u001b[1;33m\u001b[0m\u001b[1;33m\u001b[0m\u001b[0m\n",
      "\u001b[1;32m~\\AppData\\Local\\Programs\\Python\\Python39\\lib\\site-packages\\monai\\transforms\\intensity\\array.py\u001b[0m in \u001b[0;36m__call__\u001b[1;34m(self, img)\u001b[0m\n\u001b[0;32m    402\u001b[0m         \u001b[1;32mif\u001b[0m \u001b[0mself\u001b[0m\u001b[1;33m.\u001b[0m\u001b[0mminv\u001b[0m \u001b[1;32mis\u001b[0m \u001b[1;32mnot\u001b[0m \u001b[1;32mNone\u001b[0m \u001b[1;32mand\u001b[0m \u001b[0mself\u001b[0m\u001b[1;33m.\u001b[0m\u001b[0mmaxv\u001b[0m \u001b[1;32mis\u001b[0m \u001b[1;32mnot\u001b[0m \u001b[1;32mNone\u001b[0m\u001b[1;33m:\u001b[0m\u001b[1;33m\u001b[0m\u001b[1;33m\u001b[0m\u001b[0m\n\u001b[1;32m--> 403\u001b[1;33m             \u001b[1;32mreturn\u001b[0m \u001b[0mrescale_array\u001b[0m\u001b[1;33m(\u001b[0m\u001b[0mimg\u001b[0m\u001b[1;33m,\u001b[0m \u001b[0mself\u001b[0m\u001b[1;33m.\u001b[0m\u001b[0mminv\u001b[0m\u001b[1;33m,\u001b[0m \u001b[0mself\u001b[0m\u001b[1;33m.\u001b[0m\u001b[0mmaxv\u001b[0m\u001b[1;33m,\u001b[0m \u001b[0mimg\u001b[0m\u001b[1;33m.\u001b[0m\u001b[0mdtype\u001b[0m\u001b[1;33m)\u001b[0m\u001b[1;33m\u001b[0m\u001b[1;33m\u001b[0m\u001b[0m\n\u001b[0m\u001b[0;32m    404\u001b[0m         \u001b[1;32mif\u001b[0m \u001b[0mself\u001b[0m\u001b[1;33m.\u001b[0m\u001b[0mfactor\u001b[0m \u001b[1;32mis\u001b[0m \u001b[1;32mnot\u001b[0m \u001b[1;32mNone\u001b[0m\u001b[1;33m:\u001b[0m\u001b[1;33m\u001b[0m\u001b[1;33m\u001b[0m\u001b[0m\n",
      "\u001b[1;32m~\\AppData\\Local\\Programs\\Python\\Python39\\lib\\site-packages\\monai\\transforms\\utils.py\u001b[0m in \u001b[0;36mrescale_array\u001b[1;34m(arr, minv, maxv, dtype)\u001b[0m\n\u001b[0;32m    143\u001b[0m     \u001b[1;32mif\u001b[0m \u001b[0mdtype\u001b[0m \u001b[1;32mis\u001b[0m \u001b[1;32mnot\u001b[0m \u001b[1;32mNone\u001b[0m\u001b[1;33m:\u001b[0m\u001b[1;33m\u001b[0m\u001b[1;33m\u001b[0m\u001b[0m\n\u001b[1;32m--> 144\u001b[1;33m         \u001b[0marr\u001b[0m\u001b[1;33m,\u001b[0m \u001b[1;33m*\u001b[0m\u001b[0m_\u001b[0m \u001b[1;33m=\u001b[0m \u001b[0mconvert_data_type\u001b[0m\u001b[1;33m(\u001b[0m\u001b[0marr\u001b[0m\u001b[1;33m,\u001b[0m \u001b[0mdtype\u001b[0m\u001b[1;33m=\u001b[0m\u001b[0mdtype\u001b[0m\u001b[1;33m)\u001b[0m\u001b[1;33m\u001b[0m\u001b[1;33m\u001b[0m\u001b[0m\n\u001b[0m\u001b[0;32m    145\u001b[0m \u001b[1;33m\u001b[0m\u001b[0m\n",
      "\u001b[1;32m~\\AppData\\Local\\Programs\\Python\\Python39\\lib\\site-packages\\monai\\utils\\type_conversion.py\u001b[0m in \u001b[0;36mconvert_data_type\u001b[1;34m(data, output_type, device, dtype)\u001b[0m\n\u001b[0;32m    186\u001b[0m     \u001b[1;32melse\u001b[0m\u001b[1;33m:\u001b[0m\u001b[1;33m\u001b[0m\u001b[1;33m\u001b[0m\u001b[0m\n\u001b[1;32m--> 187\u001b[1;33m         \u001b[1;32mraise\u001b[0m \u001b[0mValueError\u001b[0m\u001b[1;33m(\u001b[0m\u001b[1;34mf\"Unsupported output type: {output_type}\"\u001b[0m\u001b[1;33m)\u001b[0m\u001b[1;33m\u001b[0m\u001b[1;33m\u001b[0m\u001b[0m\n\u001b[0m\u001b[0;32m    188\u001b[0m     \u001b[1;32mreturn\u001b[0m \u001b[0mdata\u001b[0m\u001b[1;33m,\u001b[0m \u001b[0morig_type\u001b[0m\u001b[1;33m,\u001b[0m \u001b[0morig_device\u001b[0m\u001b[1;33m\u001b[0m\u001b[1;33m\u001b[0m\u001b[0m\n",
      "\u001b[1;31mValueError\u001b[0m: Unsupported output type: <class 'itk.itkPyBufferPython.NDArrayITKBase'>",
      "\nThe above exception was the direct cause of the following exception:\n",
      "\u001b[1;31mRuntimeError\u001b[0m                              Traceback (most recent call last)",
      "\u001b[1;32m<ipython-input-16-2f84588052ad>\u001b[0m in \u001b[0;36m<module>\u001b[1;34m\u001b[0m\n\u001b[0;32m     10\u001b[0m \u001b[0mtest_data\u001b[0m \u001b[1;33m=\u001b[0m \u001b[1;33m{\u001b[0m\u001b[1;34m\"image\"\u001b[0m\u001b[1;33m:\u001b[0m \u001b[0mnewdcmDir\u001b[0m\u001b[1;33m}\u001b[0m\u001b[1;33m\u001b[0m\u001b[1;33m\u001b[0m\u001b[0m\n\u001b[0;32m     11\u001b[0m \u001b[0mprint\u001b[0m\u001b[1;33m(\u001b[0m\u001b[1;34mf\"filename:{newdcmDir}\"\u001b[0m\u001b[1;33m)\u001b[0m\u001b[1;33m\u001b[0m\u001b[1;33m\u001b[0m\u001b[0m\n\u001b[1;32m---> 12\u001b[1;33m \u001b[0mresult\u001b[0m \u001b[1;33m=\u001b[0m \u001b[0mtransform\u001b[0m\u001b[1;33m(\u001b[0m\u001b[0mtest_data\u001b[0m\u001b[1;33m)\u001b[0m\u001b[1;33m\u001b[0m\u001b[1;33m\u001b[0m\u001b[0m\n\u001b[0m\u001b[0;32m     13\u001b[0m \u001b[1;31m#print(f\"image data shape:{result['image'].shape}\")\u001b[0m\u001b[1;33m\u001b[0m\u001b[1;33m\u001b[0m\u001b[1;33m\u001b[0m\u001b[0m\n\u001b[0;32m     14\u001b[0m \u001b[1;31m#print(f\"meta data:{result['image_meta_dict']}\")\u001b[0m\u001b[1;33m\u001b[0m\u001b[1;33m\u001b[0m\u001b[1;33m\u001b[0m\u001b[0m\n",
      "\u001b[1;32m~\\AppData\\Local\\Programs\\Python\\Python39\\lib\\site-packages\\monai\\transforms\\compose.py\u001b[0m in \u001b[0;36m__call__\u001b[1;34m(self, input_)\u001b[0m\n\u001b[0;32m    158\u001b[0m     \u001b[1;32mdef\u001b[0m \u001b[0m__call__\u001b[0m\u001b[1;33m(\u001b[0m\u001b[0mself\u001b[0m\u001b[1;33m,\u001b[0m \u001b[0minput_\u001b[0m\u001b[1;33m)\u001b[0m\u001b[1;33m:\u001b[0m\u001b[1;33m\u001b[0m\u001b[1;33m\u001b[0m\u001b[0m\n\u001b[0;32m    159\u001b[0m         \u001b[1;32mfor\u001b[0m \u001b[0m_transform\u001b[0m \u001b[1;32min\u001b[0m \u001b[0mself\u001b[0m\u001b[1;33m.\u001b[0m\u001b[0mtransforms\u001b[0m\u001b[1;33m:\u001b[0m\u001b[1;33m\u001b[0m\u001b[1;33m\u001b[0m\u001b[0m\n\u001b[1;32m--> 160\u001b[1;33m             \u001b[0minput_\u001b[0m \u001b[1;33m=\u001b[0m \u001b[0mapply_transform\u001b[0m\u001b[1;33m(\u001b[0m\u001b[0m_transform\u001b[0m\u001b[1;33m,\u001b[0m \u001b[0minput_\u001b[0m\u001b[1;33m,\u001b[0m \u001b[0mself\u001b[0m\u001b[1;33m.\u001b[0m\u001b[0mmap_items\u001b[0m\u001b[1;33m,\u001b[0m \u001b[0mself\u001b[0m\u001b[1;33m.\u001b[0m\u001b[0munpack_items\u001b[0m\u001b[1;33m)\u001b[0m\u001b[1;33m\u001b[0m\u001b[1;33m\u001b[0m\u001b[0m\n\u001b[0m\u001b[0;32m    161\u001b[0m         \u001b[1;32mreturn\u001b[0m \u001b[0minput_\u001b[0m\u001b[1;33m\u001b[0m\u001b[1;33m\u001b[0m\u001b[0m\n\u001b[0;32m    162\u001b[0m \u001b[1;33m\u001b[0m\u001b[0m\n",
      "\u001b[1;32m~\\AppData\\Local\\Programs\\Python\\Python39\\lib\\site-packages\\monai\\transforms\\transform.py\u001b[0m in \u001b[0;36mapply_transform\u001b[1;34m(transform, data, map_items, unpack_items)\u001b[0m\n\u001b[0;32m    114\u001b[0m             \u001b[1;32melse\u001b[0m\u001b[1;33m:\u001b[0m\u001b[1;33m\u001b[0m\u001b[1;33m\u001b[0m\u001b[0m\n\u001b[0;32m    115\u001b[0m                 \u001b[0m_log_stats\u001b[0m\u001b[1;33m(\u001b[0m\u001b[0mdata\u001b[0m\u001b[1;33m=\u001b[0m\u001b[0mdata\u001b[0m\u001b[1;33m)\u001b[0m\u001b[1;33m\u001b[0m\u001b[1;33m\u001b[0m\u001b[0m\n\u001b[1;32m--> 116\u001b[1;33m         \u001b[1;32mraise\u001b[0m \u001b[0mRuntimeError\u001b[0m\u001b[1;33m(\u001b[0m\u001b[1;34mf\"applying transform {transform}\"\u001b[0m\u001b[1;33m)\u001b[0m \u001b[1;32mfrom\u001b[0m \u001b[0me\u001b[0m\u001b[1;33m\u001b[0m\u001b[1;33m\u001b[0m\u001b[0m\n\u001b[0m\u001b[0;32m    117\u001b[0m \u001b[1;33m\u001b[0m\u001b[0m\n\u001b[0;32m    118\u001b[0m \u001b[1;33m\u001b[0m\u001b[0m\n",
      "\u001b[1;31mRuntimeError\u001b[0m: applying transform <monai.transforms.intensity.dictionary.ScaleIntensityd object at 0x0000026ECABE41C0>"
     ]
    }
   ],
   "metadata": {}
  }
 ],
 "metadata": {
  "orig_nbformat": 4,
  "language_info": {
   "name": "python",
   "version": "3.9.1",
   "mimetype": "text/x-python",
   "codemirror_mode": {
    "name": "ipython",
    "version": 3
   },
   "pygments_lexer": "ipython3",
   "nbconvert_exporter": "python",
   "file_extension": ".py"
  },
  "kernelspec": {
   "name": "python3",
   "display_name": "Python 3.9.1 64-bit"
  },
  "interpreter": {
   "hash": "70f3c038ccd4929d4f5e3f1b4e72d58d2d31a35463a2e52dc84c448bb4aefeb0"
  }
 },
 "nbformat": 4,
 "nbformat_minor": 2
}