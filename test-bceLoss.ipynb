{
 "cells": [
  {
   "cell_type": "code",
   "execution_count": 1,
   "metadata": {},
   "outputs": [],
   "source": [
    "import torch\n",
    "import torch.nn as nn\n",
    "import numpy as np"
   ]
  },
  {
   "cell_type": "code",
   "execution_count": 8,
   "metadata": {},
   "outputs": [
    {
     "name": "stdout",
     "output_type": "stream",
     "text": [
      "tensor(0.5432)\n"
     ]
    }
   ],
   "source": [
    "bceLoss1 = nn.BCELoss()\n",
    "pred_list1 = [0.3, 0.3, 0.4]\n",
    "label_list1 = [0, 0, 1 ]\n",
    "pred_1 = torch.tensor(pred_list1,dtype=torch.float)\n",
    "label_1 = torch.tensor(label_list1,dtype=torch.float)\n",
    "print(bceLoss1(pred_1,label_1))"
   ]
  },
  {
   "cell_type": "code",
   "execution_count": 10,
   "metadata": {},
   "outputs": [
    {
     "data": {
      "text/plain": [
       "0.5432135399172067"
      ]
     },
     "execution_count": 10,
     "metadata": {},
     "output_type": "execute_result"
    }
   ],
   "source": [
    "from math import log\n",
    "-(0*log(0.3)+(1-0)*log(1-0.3)+0*log(0.3)+(1-0)*log(1-0.3)+1*log(0.4)+(1-1)*log(1-0.4))/3"
   ]
  },
  {
   "cell_type": "code",
   "execution_count": 12,
   "metadata": {},
   "outputs": [
    {
     "name": "stdout",
     "output_type": "stream",
     "text": [
      "tensor(0.7766)\n",
      "tensor(0.3824)\n"
     ]
    }
   ],
   "source": [
    "bceLoss = nn.BCELoss()\n",
    "pred_list1 = [[0.3, 0.3, 0.4],[0.3, 0.4, 0.3],[0.1, 0.2, 0.7]]\n",
    "y_pred_2 = [[0.1, 0.2, 0.7], [0.1, 0.7, 0.2], [0.3, 0.4, 0.3]] \n",
    "label_list1 = [[0, 0, 1 ],[0, 1, 0],[1, 0 ,0]]\n",
    "\n",
    "pred_1 = torch.tensor(pred_list1,dtype=torch.float)\n",
    "pred_2 = torch.tensor(y_pred_2,dtype=torch.float)\n",
    "label_1 = torch.tensor(label_list1,dtype=torch.float)\n",
    "print(bceLoss(pred_1,label_1))\n",
    "print(bceLoss(pred_2,label_1))"
   ]
  },
  {
   "cell_type": "code",
   "execution_count": 16,
   "metadata": {},
   "outputs": [],
   "source": [
    "\n",
    "import torch\n",
    "import torch.nn as nn\n",
    "from  PIL import Image\n",
    "import numpy as np\n",
    "\n",
    "m = nn.Upsample(scale_factor=2, mode='nearest')\n",
    "up = nn.Upsample(scale_factor=2, mode='bilinear', align_corners=True)\n",
    "\n",
    "file = 'G:/monai-pdf/ak49p-yk1rn.png'\n",
    "img = Image.open(file)\n",
    "img.show()\n",
    "im_array = np.array(img).transpose((2,0,1))[np.newaxis, :]\n",
    "im_array = torch.from_numpy(im_array).type(torch.FloatTensor)\n",
    "\n",
    "img_up = up(im_array)\n",
    "\n",
    "img = img_up.numpy().squeeze().transpose((1,2,0)).astype(np.int8)\n",
    "\n",
    "img = Image.fromarray(img, 'RGB')\n",
    "img.show()\n",
    "\n"
   ]
  },
  {
   "cell_type": "markdown",
   "metadata": {},
   "source": [
    "[损失函数｜交叉熵损失函数](https://zhuanlan.zhihu.com/p/35709485)"
   ]
  },
  {
   "cell_type": "code",
   "execution_count": 21,
   "metadata": {},
   "outputs": [
    {
     "name": "stdout",
     "output_type": "stream",
     "text": [
      "tensor(0.7766)\n",
      "tensor(0.3824)\n"
     ]
    }
   ],
   "source": [
    "import torch\n",
    "import torch.nn as nn\n",
    "\n",
    "m = nn.Sigmoid()\n",
    "loss_fn = nn.BCELoss(size_average= True)\n",
    "y_true = torch.FloatTensor([[0, 0, 1], [0, 1, 0], [1, 0, 0]] )\n",
    "y_pred_1 = torch.FloatTensor([[0.3, 0.3, 0.4], [0.3, 0.4, 0.3], [0.1, 0.2, 0.7]])\n",
    "\n",
    "# y_pred_1 = torch.FloatTensor([[0.3, 0.3, 0.1], [0.3, 0.4, 0.2], [0.4, 0.3, 0.7]])\n",
    "y_pred_2 = torch.FloatTensor([[0.1, 0.2, 0.7], [0.1, 0.7, 0.2], [0.3, 0.4, 0.3]]) \n",
    "# y_pred_2 = torch.FloatTensor([[0.1, 0.1, 0.3], [0.2, 0.7, 0.4], [0.7, 0.2, 0.3]]) \n",
    "print(loss_fn(y_pred_1, y_true)) \n",
    "print(loss_fn(y_pred_2, y_true)) \n"
   ]
  },
  {
   "cell_type": "code",
   "execution_count": 22,
   "metadata": {},
   "outputs": [
    {
     "data": {
      "text/plain": [
       "tensor(0.5432)"
      ]
     },
     "execution_count": 22,
     "metadata": {},
     "output_type": "execute_result"
    }
   ],
   "source": [
    "y1_true = torch.FloatTensor([0, 0, 1])\n",
    "y1_pred = torch.FloatTensor([0.3, 0.3, 0.4])\n",
    "loss_fn(y1_pred, y1_true)"
   ]
  },
  {
   "cell_type": "code",
   "execution_count": 12,
   "metadata": {},
   "outputs": [
    {
     "data": {
      "text/plain": [
       "tensor([[0.7412, 0.2750, 0.7236],\n",
       "        [0.2598, 0.5085, 0.3883],\n",
       "        [0.5550, 0.4962, 0.7371]])"
      ]
     },
     "execution_count": 12,
     "metadata": {},
     "output_type": "execute_result"
    }
   ],
   "source": [
    "input = torch.randn(3,3)\n",
    "m(input)"
   ]
  },
  {
   "cell_type": "code",
   "execution_count": 14,
   "metadata": {},
   "outputs": [
    {
     "data": {
      "text/plain": [
       "tensor(0.7828)"
      ]
     },
     "execution_count": 14,
     "metadata": {},
     "output_type": "execute_result"
    }
   ],
   "source": [
    "target = torch.FloatTensor([[0, 1, 1], [0, 1, 0], [1, 0, 0]])\n",
    "loss_fn(m(input),target)"
   ]
  }
 ],
 "metadata": {
  "kernelspec": {
   "display_name": "Python 3.9.7 64-bit",
   "language": "python",
   "name": "python3"
  },
  "language_info": {
   "codemirror_mode": {
    "name": "ipython",
    "version": 3
   },
   "file_extension": ".py",
   "mimetype": "text/x-python",
   "name": "python",
   "nbconvert_exporter": "python",
   "pygments_lexer": "ipython3",
   "version": "3.9.7"
  },
  "orig_nbformat": 4,
  "vscode": {
   "interpreter": {
    "hash": "ba45e27760c94426147f9bc5e8c57e17d8e3b854dbc6baa3a3746a118bf19da6"
   }
  }
 },
 "nbformat": 4,
 "nbformat_minor": 2
}
