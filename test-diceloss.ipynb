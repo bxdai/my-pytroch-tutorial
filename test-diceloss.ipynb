{
 "cells": [
  {
   "cell_type": "markdown",
   "source": [
    "https://blog.csdn.net/liangjiu2009/article/details/107352164  \r\n",
    "https://zhuanlan.zhihu.com/p/103426335#:~:text=Dice%20Loss%201%20Dice%E7%B3%BB%E6%95%B0%EF%BC%9A%E6%A0%B9%E6%8D%AE%20Lee%20Raymond%20Dice%20%5B1%5D%E5%91%BD%E4%BB%A4%EF%BC%8C%E6%98%AF%E7%94%A8%E6%9D%A5%E5%BA%A6%E9%87%8F%E9%9B%86%E5%90%88%E7%9B%B8%E4%BC%BC%E5%BA%A6%E7%9A%84%E5%BA%A6%E9%87%8F%E5%87%BD%E6%95%B0%EF%BC%8C%E9%80%9A%E5%B8%B8%E7%94%A8%E4%BA%8E%E8%AE%A1%E7%AE%97%E4%B8%A4%E4%B8%AA%E6%A0%B7%E6%9C%AC%E4%B9%8B%E9%97%B4%E7%9A%84%E5%83%8F%E7%B4%A0%EF%BC%8C%E5%85%AC%E5%BC%8F%E5%A6%82%E4%B8%8B%EF%BC%9A,Loss%E4%BD%BF%E7%94%A8%E4%B8%8E%E6%A0%B7%E6%9C%AC%E6%9E%81%E5%BA%A6%E4%B8%8D%E5%9D%87%E8%A1%A1%E7%9A%84%E6%83%85%E5%86%B5%EF%BC%8C%E5%A6%82%E6%9E%9C%E4%B8%80%E8%88%AC%E6%83%85%E5%86%B5%E4%B8%8B%E4%BD%BF%E7%94%A8Dice%20Loss%E4%BC%9A%E5%9B%9E%E5%8F%8D%E5%90%91%E4%BC%A0%E6%92%AD%E6%9C%89%E4%B8%8D%E5%88%A9%E7%9A%84%E5%BD%B1%E5%93%8D%EF%BC%8C%E4%BD%BF%E5%BE%97%E8%AE%AD%E7%BB%83%E4%B8%8D%E7%A8%B3%E5%AE%9A%E3%80%82%203%20%E8%AE%AD%E7%BB%83%E5%88%86%E5%89%B2%E7%BD%91%E7%BB%9C%EF%BC%8C%E4%BE%8B%E5%A6%82FCN%EF%BC%8CUNet%E6%98%AF%E9%80%89%E6%8B%A9%E4%BA%A4%E5%8F%89%E7%86%B5Loss%E8%BF%98%E6%98%AF%E9%80%89%E6%8B%A9Dice%20Loss%EF%BC%9F%20More%20items...%20  \r\n",
    "https://zhuanlan.zhihu.com/p/349046748  \r\n",
    "https://blog.csdn.net/baidu_36511315/article/details/105217674\r\n",
    "https://blog.csdn.net/CaiDaoqing/article/details/90457197"
   ],
   "metadata": {}
  },
  {
   "cell_type": "code",
   "execution_count": 75,
   "source": [
    "import torch\r\n",
    "import torch.nn as nn\r\n",
    "\r\n",
    "class Diceloss2D(nn.Module):\r\n",
    "    def __init__(self):\r\n",
    "        super(Diceloss2D, self).__init__()\r\n",
    "\r\n",
    "    def forward(self, input, targets):\r\n",
    "        # 获取每个批次的大小 N\r\n",
    "        N = targets.size()[0]\r\n",
    "        # 平滑变量\r\n",
    "        smooth = 1\r\n",
    "        # 将宽高 reshape 到同一纬度\r\n",
    "        input_flat = input.view(N, -1)\r\n",
    "        targets_flat = targets.view(N, -1)\r\n",
    "\r\n",
    "        # 计算交集\r\n",
    "        intersection = input_flat * targets_flat \r\n",
    "        N_dice_eff = (2 * intersection.sum(1) + smooth) / (input_flat.sum(1) + targets_flat.sum(1) + smooth)\r\n",
    "        print(f\"N_dice_eff{N_dice_eff}\")\r\n",
    "        # 计算一个批次中平均每张图的损失\r\n",
    "        loss = 1 - N_dice_eff.sum() / N\r\n",
    "        return loss\r\n"
   ],
   "outputs": [],
   "metadata": {}
  },
  {
   "cell_type": "code",
   "execution_count": 76,
   "source": [
    "x = torch.randn(4,3)\r\n",
    "print(x)"
   ],
   "outputs": [
    {
     "output_type": "stream",
     "name": "stdout",
     "text": [
      "tensor([[ 1.0007,  1.7434,  1.1501],\n",
      "        [-1.1193, -0.9224, -0.1627],\n",
      "        [-0.0555,  0.1877,  1.7602],\n",
      "        [ 0.0107, -0.4988,  0.8969]])\n"
     ]
    }
   ],
   "metadata": {}
  },
  {
   "cell_type": "code",
   "execution_count": 77,
   "source": [
    "y = torch.randint(0,2,size=(4,3))\r\n",
    "y"
   ],
   "outputs": [
    {
     "output_type": "execute_result",
     "data": {
      "text/plain": [
       "tensor([[1, 1, 0],\n",
       "        [0, 1, 0],\n",
       "        [0, 0, 0],\n",
       "        [1, 0, 1]])"
      ]
     },
     "metadata": {},
     "execution_count": 77
    }
   ],
   "metadata": {}
  },
  {
   "cell_type": "code",
   "execution_count": 78,
   "source": [
    "x1 =x.sum()\r\n",
    "x1"
   ],
   "outputs": [
    {
     "output_type": "execute_result",
     "data": {
      "text/plain": [
       "tensor(3.9910)"
      ]
     },
     "metadata": {},
     "execution_count": 78
    }
   ],
   "metadata": {}
  },
  {
   "cell_type": "code",
   "execution_count": 79,
   "source": [
    "t= x*y\r\n",
    "t"
   ],
   "outputs": [
    {
     "output_type": "execute_result",
     "data": {
      "text/plain": [
       "tensor([[ 1.0007,  1.7434,  0.0000],\n",
       "        [-0.0000, -0.9224, -0.0000],\n",
       "        [-0.0000,  0.0000,  0.0000],\n",
       "        [ 0.0107, -0.0000,  0.8969]])"
      ]
     },
     "metadata": {},
     "execution_count": 79
    }
   ],
   "metadata": {}
  },
  {
   "cell_type": "code",
   "execution_count": 80,
   "source": [
    "t1 = t.sum()\r\n",
    "t1"
   ],
   "outputs": [
    {
     "output_type": "execute_result",
     "data": {
      "text/plain": [
       "tensor(2.7292)"
      ]
     },
     "metadata": {},
     "execution_count": 80
    }
   ],
   "metadata": {}
  },
  {
   "cell_type": "code",
   "execution_count": 81,
   "source": [
    "y1=y.sum()\r\n",
    "y1"
   ],
   "outputs": [
    {
     "output_type": "execute_result",
     "data": {
      "text/plain": [
       "tensor(5)"
      ]
     },
     "metadata": {},
     "execution_count": 81
    }
   ],
   "metadata": {}
  },
  {
   "cell_type": "code",
   "execution_count": 82,
   "source": [
    "D = (2*t1+1)/(x1+y1+1)\r\n",
    "D"
   ],
   "outputs": [
    {
     "output_type": "execute_result",
     "data": {
      "text/plain": [
       "tensor(0.6464)"
      ]
     },
     "metadata": {},
     "execution_count": 82
    }
   ],
   "metadata": {}
  },
  {
   "cell_type": "code",
   "execution_count": 83,
   "source": [
    "loss = Diceloss2D()\r\n",
    "ret =loss(x,y)\r\n",
    "ret"
   ],
   "outputs": [
    {
     "output_type": "stream",
     "name": "stdout",
     "text": [
      "N_dice_efftensor([0.9411, 4.1337, 0.3457, 0.8258])\n"
     ]
    },
    {
     "output_type": "execute_result",
     "data": {
      "text/plain": [
       "tensor(-0.5616)"
      ]
     },
     "metadata": {},
     "execution_count": 83
    }
   ],
   "metadata": {}
  },
  {
   "cell_type": "code",
   "execution_count": 84,
   "source": [
    "m = torch.Tensor([[0.5322,0.4932,0.1764],\r\n",
    "[0.3107,0.5297,0.1604],\r\n",
    "[0.3841,0.3537,0.3574],\r\n",
    "[0.3323,0.8301,0.6436]])\r\n",
    "m"
   ],
   "outputs": [
    {
     "output_type": "execute_result",
     "data": {
      "text/plain": [
       "tensor([[0.5322, 0.4932, 0.1764],\n",
       "        [0.3107, 0.5297, 0.1604],\n",
       "        [0.3841, 0.3537, 0.3574],\n",
       "        [0.3323, 0.8301, 0.6436]])"
      ]
     },
     "metadata": {},
     "execution_count": 84
    }
   ],
   "metadata": {}
  },
  {
   "cell_type": "code",
   "execution_count": 85,
   "source": [
    "m_y = torch.Tensor([0,0,0,0,0,0,1,1,1,1,1,1]).reshape(4,3)\r\n",
    "m_y"
   ],
   "outputs": [
    {
     "output_type": "execute_result",
     "data": {
      "text/plain": [
       "tensor([[0., 0., 0.],\n",
       "        [0., 0., 0.],\n",
       "        [1., 1., 1.],\n",
       "        [1., 1., 1.]])"
      ]
     },
     "metadata": {},
     "execution_count": 85
    }
   ],
   "metadata": {}
  },
  {
   "cell_type": "code",
   "execution_count": 86,
   "source": [
    "s = m*m_y\r\n",
    "t= s.sum()\r\n",
    "t"
   ],
   "outputs": [
    {
     "output_type": "execute_result",
     "data": {
      "text/plain": [
       "tensor(2.9012)"
      ]
     },
     "metadata": {},
     "execution_count": 86
    }
   ],
   "metadata": {}
  },
  {
   "cell_type": "code",
   "execution_count": 87,
   "source": [
    "x =x.sum()\r\n",
    "x"
   ],
   "outputs": [
    {
     "output_type": "execute_result",
     "data": {
      "text/plain": [
       "tensor(3.9910)"
      ]
     },
     "metadata": {},
     "execution_count": 87
    }
   ],
   "metadata": {}
  },
  {
   "cell_type": "code",
   "execution_count": 88,
   "source": [
    "a = m.view(4,-1)\r\n",
    "a1 = a.sum(1)\r\n",
    "print(a1)\r\n",
    "a2= a1.sum()\r\n",
    "a2"
   ],
   "outputs": [
    {
     "output_type": "stream",
     "name": "stdout",
     "text": [
      "tensor([1.2018, 1.0008, 1.0952, 1.8060])\n"
     ]
    },
    {
     "output_type": "execute_result",
     "data": {
      "text/plain": [
       "tensor(5.1038)"
      ]
     },
     "metadata": {},
     "execution_count": 88
    }
   ],
   "metadata": {}
  },
  {
   "cell_type": "code",
   "execution_count": 89,
   "source": [
    "a = m_y.view(4,-1)\r\n",
    "a1 = a.sum(1)\r\n",
    "print(a1)\r\n",
    "a2= a1.sum()\r\n",
    "a2"
   ],
   "outputs": [
    {
     "output_type": "stream",
     "name": "stdout",
     "text": [
      "tensor([0., 0., 3., 3.])\n"
     ]
    },
    {
     "output_type": "execute_result",
     "data": {
      "text/plain": [
       "tensor(6.)"
      ]
     },
     "metadata": {},
     "execution_count": 89
    }
   ],
   "metadata": {}
  },
  {
   "cell_type": "code",
   "execution_count": 90,
   "source": [
    "D=(2*2.9012+1)/(5.1038+6+1)\r\n",
    "o =1-D\r\n",
    "o"
   ],
   "outputs": [
    {
     "output_type": "execute_result",
     "data": {
      "text/plain": [
       "0.4379946793568962"
      ]
     },
     "metadata": {},
     "execution_count": 90
    }
   ],
   "metadata": {}
  },
  {
   "cell_type": "code",
   "execution_count": 91,
   "source": [
    "print(m)\r\n",
    "print(m_y)\r\n",
    "l =loss(m.reshape(1,1,4,3),m_y.reshape(1,1,4,3))\r\n",
    "l"
   ],
   "outputs": [
    {
     "output_type": "stream",
     "name": "stdout",
     "text": [
      "tensor([[0.5322, 0.4932, 0.1764],\n",
      "        [0.3107, 0.5297, 0.1604],\n",
      "        [0.3841, 0.3537, 0.3574],\n",
      "        [0.3323, 0.8301, 0.6436]])\n",
      "tensor([[0., 0., 0.],\n",
      "        [0., 0., 0.],\n",
      "        [1., 1., 1.],\n",
      "        [1., 1., 1.]])\n",
      "N_dice_efftensor([0.5620])\n"
     ]
    },
    {
     "output_type": "execute_result",
     "data": {
      "text/plain": [
       "tensor(0.4380)"
      ]
     },
     "metadata": {},
     "execution_count": 91
    }
   ],
   "metadata": {}
  },
  {
   "cell_type": "code",
   "execution_count": null,
   "source": [],
   "outputs": [],
   "metadata": {}
  },
  {
   "cell_type": "code",
   "execution_count": 92,
   "source": [
    "import monai\r\n",
    "from monai.metrics import DiceMetric\r\n",
    "dice_metric = DiceMetric(include_background=True, reduction=\"mean\", get_not_nans=False)\r\n",
    "print(m_y)\r\n",
    "l1 = dice_metric(m.reshape(1,4,3),m_y.reshape(1,4,3))\r\n",
    "print(l1)\r\n",
    " # aggregate the final mean dice result\r\n",
    "metric = dice_metric.aggregate().item()\r\n",
    "metric"
   ],
   "outputs": [
    {
     "output_type": "stream",
     "name": "stdout",
     "text": [
      "tensor([[0., 0., 0.],\n",
      "        [0., 0., 0.],\n",
      "        [1., 1., 1.],\n",
      "        [1., 1., 1.]])\n",
      "tensor([[   nan,    nan, 0.5349, 0.7516]])\n"
     ]
    },
    {
     "output_type": "stream",
     "name": "stderr",
     "text": [
      "C:\\Users\\bxd\\AppData\\Local\\Programs\\Python\\Python39\\lib\\site-packages\\monai\\metrics\\meandice.py:73: UserWarning: y_pred should be a binarized tensor.\n",
      "  warnings.warn(\"y_pred should be a binarized tensor.\")\n"
     ]
    },
    {
     "output_type": "execute_result",
     "data": {
      "text/plain": [
       "0.6432152986526489"
      ]
     },
     "metadata": {},
     "execution_count": 92
    }
   ],
   "metadata": {}
  },
  {
   "cell_type": "code",
   "execution_count": 93,
   "source": [
    "a=[0.5349,0.7516]\r\n",
    "t1 = torch.Tensor(a)\r\n",
    "t1.sum()/2"
   ],
   "outputs": [
    {
     "output_type": "execute_result",
     "data": {
      "text/plain": [
       "tensor(0.6432)"
      ]
     },
     "metadata": {},
     "execution_count": 93
    }
   ],
   "metadata": {}
  },
  {
   "cell_type": "code",
   "execution_count": 106,
   "source": [
    "class DiceLossND(nn.Module):\r\n",
    "\tdef __init__(self):\r\n",
    "\t\tsuper().__init__()\r\n",
    "\t\r\n",
    "\tdef forward(self, input, target):\r\n",
    "\t\t\"\"\"\r\n",
    "\t\t\tinput tesor of shape = (N, C, H, W)\r\n",
    "\t\t\ttarget tensor of shape = (N, H, W)\r\n",
    "\t\t\"\"\"\r\n",
    "\t\t# 先将 target 进行 one-hot 处理，转换为 (N, C, H, W)\r\n",
    "\t\t# nclass = input.shape[1]\r\n",
    "\t\t# target = nn.functional.one_hot(target.long(), nclass)\r\n",
    "\r\n",
    "\t\t# print(target.shape)\r\n",
    "\r\n",
    "\t\tassert (input.shape == target.shape, \"predict & target shape do not match\")\r\n",
    "\t\t\r\n",
    "\t\tbinaryDiceLoss = Diceloss2D()\r\n",
    "\t\ttotal_loss = 0\r\n",
    "\t\t\r\n",
    "\t\t# 归一化输出\r\n",
    "\t\tlogits = nn.functional.softmax(input, dim=1)\r\n",
    "\t\tC = target.shape[1]\r\n",
    "\t\t\r\n",
    "\t\t# 遍历 channel，得到每个类别的二分类 DiceLoss\r\n",
    "\t\tfor i in range(C):\r\n",
    "\t\t\tdice_loss = binaryDiceLoss(logits[:, i], target[:, i])\r\n",
    "\t\t\ttotal_loss += dice_loss\r\n",
    "\t\t\r\n",
    "\t\t# 每个类别的平均 dice_loss\r\n",
    "\t\treturn total_loss / C\r\n",
    "\r\n"
   ],
   "outputs": [
    {
     "output_type": "stream",
     "name": "stderr",
     "text": [
      "<>:16: SyntaxWarning: assertion is always true, perhaps remove parentheses?\n",
      "<>:16: SyntaxWarning: assertion is always true, perhaps remove parentheses?\n",
      "C:\\Users\\bxd\\AppData\\Local\\Temp/ipykernel_13012/910857797.py:16: SyntaxWarning: assertion is always true, perhaps remove parentheses?\n",
      "  assert (input.shape == target.shape, \"predict & target shape do not match\")\n"
     ]
    }
   ],
   "metadata": {}
  },
  {
   "cell_type": "code",
   "execution_count": 108,
   "source": [
    "x =torch.randn((1,3,4,4))\r\n",
    "x.shape"
   ],
   "outputs": [
    {
     "output_type": "execute_result",
     "data": {
      "text/plain": [
       "torch.Size([1, 3, 4, 4])"
      ]
     },
     "metadata": {},
     "execution_count": 108
    }
   ],
   "metadata": {}
  },
  {
   "cell_type": "code",
   "execution_count": 109,
   "source": [
    "y = torch.randint(0,2,(1,3,4,4))\r\n",
    "y.shape"
   ],
   "outputs": [
    {
     "output_type": "execute_result",
     "data": {
      "text/plain": [
       "torch.Size([1, 3, 4, 4])"
      ]
     },
     "metadata": {},
     "execution_count": 109
    }
   ],
   "metadata": {}
  },
  {
   "cell_type": "code",
   "execution_count": 103,
   "source": [
    "x.shape == y.shape"
   ],
   "outputs": [
    {
     "output_type": "execute_result",
     "data": {
      "text/plain": [
       "False"
      ]
     },
     "metadata": {},
     "execution_count": 103
    }
   ],
   "metadata": {}
  },
  {
   "cell_type": "code",
   "execution_count": 114,
   "source": [
    "loss3d = DiceLossND()\r\n",
    "output = loss3d(m.reshape(1,4,3),m_y.reshape(1,4,3))\r\n",
    "output"
   ],
   "outputs": [
    {
     "output_type": "stream",
     "name": "stdout",
     "text": [
      "N_dice_efftensor([0.5785])\n",
      "N_dice_efftensor([0.5964])\n",
      "N_dice_efftensor([0.5108])\n",
      "N_dice_efftensor([0.5697])\n"
     ]
    },
    {
     "output_type": "execute_result",
     "data": {
      "text/plain": [
       "tensor(0.4362)"
      ]
     },
     "metadata": {},
     "execution_count": 114
    }
   ],
   "metadata": {}
  },
  {
   "cell_type": "code",
   "execution_count": 112,
   "source": [
    "# 2D normalized cross correlation, operates on BxRxC arrays\r\n",
    "# where B is batch, R is rows, C is columns. Outputs B length\r\n",
    "# 1D array of NCC scores for each batch\r\n",
    "#\r\n",
    "# Copyright (C) 2019-2020 Robert Grupp (grupp@jhu.edu)\r\n",
    "#\r\n",
    "# You should have received a copy of the GNU General Public License\r\n",
    "# along with this program. If not, see <https://www.gnu.org/licenses/>.\r\n",
    "\r\n",
    "import torch\r\n",
    "\r\n",
    "def ncc_2d(X,Y):\r\n",
    "    N = X.shape[-1] * X.shape[-2]\r\n",
    "    assert(N > 1)\r\n",
    "    \r\n",
    "    #print('X: {}'.format(X.shape))\r\n",
    "    #print('Y: {}'.format(Y.shape))\r\n",
    "\r\n",
    "    dim = X.dim()\r\n",
    "    d1 = dim - 2\r\n",
    "    d2 = dim - 1\r\n",
    "\r\n",
    "    # compute means of each 2D \"image\"\r\n",
    "    mu_X = torch.mean(X, dim=[d1,d2])\r\n",
    "\r\n",
    "    # make the 2D images have zero mean\r\n",
    "    X_zm = X - (mu_X.reshape(*mu_X.shape,1,1) * torch.ones_like(X))\r\n",
    "\r\n",
    "    # compute sample standard deviations\r\n",
    "    X_sd = torch.sqrt(torch.sum(X_zm * X_zm, dim=[d1,d2]) / (N-1))\r\n",
    "\r\n",
    "    mu_Y = torch.mean(Y, dim=[d1,d2])\r\n",
    "\r\n",
    "    Y_zm = Y - (mu_Y.reshape(*mu_Y.shape,1,1) * torch.ones_like(Y))\r\n",
    "    \r\n",
    "    Y_sd = torch.sqrt(torch.sum(Y_zm * Y_zm, dim=[d1,d2]) / (N-1))\r\n",
    "    \r\n",
    "    return torch.sum(X_zm * Y_zm, dim=[d1,d2]) / ((N * (X_sd * Y_sd)) + 1.0e-8)\r\n",
    "\r\n"
   ],
   "outputs": [],
   "metadata": {}
  },
  {
   "cell_type": "code",
   "execution_count": 113,
   "source": [
    "# Differentiable dice loss\r\n",
    "#\r\n",
    "# Copyright (C) 2019-2020 Robert Grupp (grupp@jhu.edu)\r\n",
    "#\r\n",
    "# You should have received a copy of the GNU General Public License\r\n",
    "# along with this program. If not, see <https://www.gnu.org/licenses/>.\r\n",
    "\r\n",
    "import torch\r\n",
    "\r\n",
    "import torch.nn.modules.loss\r\n",
    "\r\n",
    "class DiceLoss2D(torch.nn.modules.loss._Loss):\r\n",
    "    def __init__(self, skip_bg=True):\r\n",
    "        super(DiceLoss2D, self).__init__()\r\n",
    "        \r\n",
    "        self.skip_bg = skip_bg\r\n",
    "\r\n",
    "    def forward(self, input, target):\r\n",
    "        # Add this to numerator and denominator to avoid divide by zero when nothing is segmented\r\n",
    "        # and ground truth is also empty (denominator term).\r\n",
    "        # Also allow a Dice of 1 (-1) for this case (both terms).\r\n",
    "        eps = 1.0e-4\r\n",
    "        \r\n",
    "        if self.skip_bg:\r\n",
    "            # numerator of Dice, for each class except class 0 (background)\r\n",
    "            # multiply by -2 (usually +2), since we are minimizing the objective function and we want to maximize Dice\r\n",
    "            numerators = -2 * torch.sum(torch.sum(target[:,1:,:,:] * input[:,1:,:,:], dim=3), dim=2) + eps\r\n",
    "\r\n",
    "            # denominator of Dice, for each class except class 0 (background)\r\n",
    "            denominators = torch.sum(torch.sum(target[:,1:,:,:] * target[:,1:,:,:], dim=3), dim=2) + \\\r\n",
    "                             torch.sum(torch.sum(input[:,1:,:,:] * input[:,1:,:,:], dim=3), dim=2) + eps\r\n",
    "\r\n",
    "            # minus one to exclude the background class\r\n",
    "            num_classes = input.shape[1] - 1\r\n",
    "        else:\r\n",
    "            # numerator of Dice, for each class\r\n",
    "            # multiply by -2 (usually +2), since we are minimizing the objective function and we want to maximize Dice\r\n",
    "            numerators = -2 * torch.sum(torch.sum(target[:,:,:,:] * input[:,:,:,:], dim=3), dim=2) + eps\r\n",
    "\r\n",
    "            # denominator of Dice, for each class\r\n",
    "            denominators = torch.sum(torch.sum(target[:,:,:,:] * target[:,:,:,:], dim=3), dim=2) + \\\r\n",
    "                             torch.sum(torch.sum(input[:,:,:,:] * input[:,:,:,:], dim=3), dim=2) + eps\r\n",
    "            \r\n",
    "            num_classes = input.shape[1]\r\n",
    "\r\n",
    "        # Dice coefficients for each image in the batch, for each class\r\n",
    "        dices = numerators / denominators\r\n",
    "\r\n",
    "        # compute average Dice score for each image in the batch\r\n",
    "        avg_dices = torch.sum(dices, dim=1) / num_classes\r\n",
    "        \r\n",
    "        # compute average over the batch\r\n",
    "        return torch.mean(avg_dices)\r\n",
    "\r\n",
    "class DiceAndHeatMapLoss2D(torch.nn.modules.loss._Loss):\r\n",
    "    def __init__(self, skip_bg=True, heatmap_wgt=0.5):\r\n",
    "        super(DiceAndHeatMapLoss2D, self).__init__()\r\n",
    "        \r\n",
    "        self.dice_loss = DiceLoss2D(skip_bg=skip_bg)\r\n",
    "       \r\n",
    "        assert((heatmap_wgt > 1.0e-8) and (heatmap_wgt < (1 + 1.0e-8)))\r\n",
    "        self.heatmap_wgt = heatmap_wgt\r\n",
    "        self.dice_wgt    = 1 - heatmap_wgt\r\n",
    "\r\n",
    "    def forward(self, input, target):\r\n",
    "        in_seg      = input[0]\r\n",
    "        in_heatmaps = input[1]\r\n",
    "\r\n",
    "        tgt_seg      = target[0]\r\n",
    "        tgt_heatmaps = target[1]\r\n",
    "\r\n",
    "        num_lands = tgt_heatmaps.shape[1]\r\n",
    "\r\n",
    "        # L2 Loss\r\n",
    "        #hm_errs = (in_heatmaps - tgt_heatmaps).pow(2)\r\n",
    "        #avg_hm_errs = torch.sum(torch.sum(torch.sum(hm_errs, dim=3), dim=2), dim=1) / num_lands\r\n",
    "        #return self.dice_loss(in_seg, tgt_seg) + (self.heatmap_wgt * torch.mean(avg_hm_errs))\r\n",
    "        \r\n",
    "        ncc_losses = ncc_2d(in_heatmaps, tgt_heatmaps)\r\n",
    "        \r\n",
    "        # negation since we are minmizing, normalize output in range [-1,0]\r\n",
    "        ncc_losses = (ncc_losses + 1) * -0.5\r\n",
    "        \r\n",
    "        return (self.dice_wgt * self.dice_loss(in_seg, tgt_seg)) + (self.heatmap_wgt * torch.mean(ncc_losses))\r\n",
    "        \r\n",
    "\r\n",
    "\r\n"
   ],
   "outputs": [],
   "metadata": {}
  },
  {
   "cell_type": "code",
   "execution_count": 115,
   "source": [
    "print(torch.Tensor)"
   ],
   "outputs": [
    {
     "output_type": "stream",
     "name": "stdout",
     "text": [
      "<class 'torch.Tensor'>\n"
     ]
    }
   ],
   "metadata": {}
  },
  {
   "cell_type": "code",
   "execution_count": 116,
   "source": [
    "import torch\r\n",
    "a = torch.tensor([True,True,False])\r\n",
    "print(a.any())\r\n",
    "# 打印结果 tensor(True)\r\n",
    "\r\n",
    "b = torch.tensor([False, False, False])\r\n",
    "print(b.any())\r\n",
    "# 打印结果 tensor(False)\r\n"
   ],
   "outputs": [
    {
     "output_type": "stream",
     "name": "stdout",
     "text": [
      "tensor(True)\n",
      "tensor(False)\n"
     ]
    }
   ],
   "metadata": {}
  },
  {
   "cell_type": "code",
   "execution_count": 117,
   "source": [
    "import torch\r\n",
    "a = torch.tensor([True,True,False])\r\n",
    "print(a.all())\r\n",
    "# 打印结果 tensor(False)\r\n",
    "\r\n",
    "b = torch.tensor([True,True,True])\r\n",
    "print(b.all())\r\n",
    "# 打印结果 tensor(True)\r\n"
   ],
   "outputs": [
    {
     "output_type": "stream",
     "name": "stdout",
     "text": [
      "tensor(False)\n",
      "tensor(True)\n"
     ]
    }
   ],
   "metadata": {}
  },
  {
   "cell_type": "code",
   "execution_count": 127,
   "source": [
    "print(m.byte())\r\n",
    "torch.all(m_y.byte() == m_y)\r\n",
    "\r\n"
   ],
   "outputs": [
    {
     "output_type": "stream",
     "name": "stdout",
     "text": [
      "tensor([[0, 0, 0],\n",
      "        [0, 0, 0],\n",
      "        [0, 0, 0],\n",
      "        [0, 0, 0]], dtype=torch.uint8)\n"
     ]
    },
    {
     "output_type": "execute_result",
     "data": {
      "text/plain": [
       "tensor(True)"
      ]
     },
     "metadata": {},
     "execution_count": 127
    }
   ],
   "metadata": {}
  }
 ],
 "metadata": {
  "orig_nbformat": 4,
  "language_info": {
   "name": "python",
   "version": "3.9.7",
   "mimetype": "text/x-python",
   "codemirror_mode": {
    "name": "ipython",
    "version": 3
   },
   "pygments_lexer": "ipython3",
   "nbconvert_exporter": "python",
   "file_extension": ".py"
  },
  "kernelspec": {
   "name": "python3",
   "display_name": "Python 3.9.7 64-bit"
  },
  "interpreter": {
   "hash": "9c55d9c4d7133e07a1e34425006a84d62065573fea9d194a937da05d64b3e64a"
  }
 },
 "nbformat": 4,
 "nbformat_minor": 2
}