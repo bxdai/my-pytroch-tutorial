{
 "cells": [
  {
   "cell_type": "code",
   "execution_count": 34,
   "metadata": {},
   "outputs": [],
   "source": [
    "import numpy as np\n",
    "from PIL import Image"
   ]
  },
  {
   "cell_type": "code",
   "execution_count": 35,
   "metadata": {},
   "outputs": [
    {
     "name": "stdout",
     "output_type": "stream",
     "text": [
      "image_shape:  (554, 388) <class 'PIL.PngImagePlugin.PngImageFile'>\n"
     ]
    }
   ],
   "source": [
    "image = Image.open('img/rabbit.jpg')\n",
    "# 输出图片维度\n",
    "print(\"image_shape: \", image.size,type(image))\n",
    "# 显示图片\n",
    "image.show()"
   ]
  },
  {
   "cell_type": "code",
   "execution_count": 36,
   "metadata": {},
   "outputs": [
    {
     "name": "stdout",
     "output_type": "stream",
     "text": [
      "(388, 554, 4)\n",
      "(388, 554, 4)\n"
     ]
    }
   ],
   "source": [
    "img_np = np.array(image)\n",
    "print(img_np.shape)\n",
    "img_np2 = np.fliplr(img_np)\n",
    "print(img_np2.shape)\n",
    "\n",
    "ig = Image.fromarray(img_np2)\n",
    "ig.show()"
   ]
  },
  {
   "cell_type": "code",
   "execution_count": 37,
   "metadata": {},
   "outputs": [],
   "source": [
    "img_np2 = np.flip(img_np,axis = 1)\n",
    "ig1 = Image.fromarray(img_np2)\n",
    "ig1.show()"
   ]
  }
 ],
 "metadata": {
  "interpreter": {
   "hash": "9c55d9c4d7133e07a1e34425006a84d62065573fea9d194a937da05d64b3e64a"
  },
  "kernelspec": {
   "display_name": "Python 3.9.7 64-bit",
   "name": "python3"
  },
  "language_info": {
   "codemirror_mode": {
    "name": "ipython",
    "version": 3
   },
   "file_extension": ".py",
   "mimetype": "text/x-python",
   "name": "python",
   "nbconvert_exporter": "python",
   "pygments_lexer": "ipython3",
   "version": "3.9.7"
  },
  "orig_nbformat": 4
 },
 "nbformat": 4,
 "nbformat_minor": 2
}
