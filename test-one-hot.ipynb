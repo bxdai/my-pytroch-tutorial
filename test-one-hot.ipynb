{
 "cells": [
  {
   "cell_type": "markdown",
   "metadata": {},
   "source": [
    "one_hot编码定义  \n",
    "在一个给定的向量中，按照设定的最值–可以是向量中包含的最大值（作为最高分类数），有也可以是自定义的最大值，设计one_hot编码的长度：最大值+1【详见举的例子吧】。\n",
    "\n",
    "然后按照最大值创建一个1*(最大值+1)的维度大小的全零零向量：[0, 0, 0, …] => 共最大值+1对应的个数\n",
    "\n",
    "接着按照向量中的值，从第0位开始索引，将向量中值对应的位置设置为1，其他保持为0.\n",
    "\n",
    "总结：one_hot编码主要用于分类时，作为一个类别的编码–方便判别与相关计算；\n",
    "【1. 如同类别数统计，只需要将one_hot编码相加得到一个一维向量就知道了一批数据中所有类别的预测或真实的分布情况；\n",
    "2. 相比于预测出具体的类别数–43等，用向量可以使用向量相关的算法进行时间上的优化等等】\n",
    "————————————————\n",
    "版权声明：本文为CSDN博主「NULL not error」的原创文章，遵循CC 4.0 BY-SA版权协议，转载请附上原文出处链接及本声明。\n",
    "原文链接：https://blog.csdn.net/weixin_44604887/article/details/109523281\n"
   ]
  },
  {
   "cell_type": "code",
   "execution_count": 3,
   "metadata": {},
   "outputs": [
    {
     "name": "stdout",
     "output_type": "stream",
     "text": [
      "tensor([[0, 0, 0, 0, 0, 1],\n",
      "        [0, 0, 0, 1, 0, 0],\n",
      "        [0, 0, 0, 0, 1, 0],\n",
      "        [0, 0, 0, 0, 0, 1],\n",
      "        [0, 1, 0, 0, 0, 0],\n",
      "        [0, 0, 1, 0, 0, 0]])\n"
     ]
    }
   ],
   "source": [
    "import torch.nn.functional as F\n",
    "import torch\n",
    "x = torch.tensor([5,3,4,5,1,2,])# 默认按照targets其中的最大值+1作为one_hot编码的长度\n",
    "\n",
    "x1 = F.one_hot(x)\n",
    "print(x1)"
   ]
  },
  {
   "cell_type": "code",
   "execution_count": 4,
   "metadata": {},
   "outputs": [
    {
     "name": "stdout",
     "output_type": "stream",
     "text": [
      "tensor([[0, 0, 0, 0, 0, 1, 0],\n",
      "        [0, 0, 0, 1, 0, 0, 0],\n",
      "        [0, 0, 0, 0, 1, 0, 0],\n",
      "        [0, 0, 0, 0, 0, 1, 0],\n",
      "        [0, 1, 0, 0, 0, 0, 0],\n",
      "        [0, 0, 1, 0, 0, 0, 0]])\n"
     ]
    }
   ],
   "source": [
    "#指定one_hot编码长度\n",
    "num = 7\n",
    "target = F.one_hot(x,num_classes=num)\n",
    "print(target)"
   ]
  },
  {
   "cell_type": "code",
   "execution_count": 5,
   "metadata": {},
   "outputs": [
    {
     "data": {
      "text/plain": [
       "3"
      ]
     },
     "execution_count": 5,
     "metadata": {},
     "output_type": "execute_result"
    }
   ],
   "source": [
    "import torch\n",
    "n =torch.zeros(1,2,3)\n",
    "n.dim()"
   ]
  },
  {
   "cell_type": "code",
   "execution_count": 9,
   "metadata": {},
   "outputs": [],
   "source": [
    "\n",
    "import torch\n",
    "class_num = 5\n",
    "label = torch.IntTensor([1,3,0]) \n",
    "# ones = torch.eye(class_num)\n",
    "# ones.index_select(0,label)\n",
    "target = torch.eye(class_num).index_select(dim=0, index=label)"
   ]
  },
  {
   "cell_type": "code",
   "execution_count": 10,
   "metadata": {},
   "outputs": [
    {
     "data": {
      "text/plain": [
       "tensor([[0., 1., 0., 0., 0.],\n",
       "        [0., 0., 0., 1., 0.],\n",
       "        [1., 0., 0., 0., 0.]])"
      ]
     },
     "execution_count": 10,
     "metadata": {},
     "output_type": "execute_result"
    }
   ],
   "source": [
    "target"
   ]
  },
  {
   "cell_type": "code",
   "execution_count": 12,
   "metadata": {},
   "outputs": [
    {
     "name": "stdout",
     "output_type": "stream",
     "text": [
      "tensor([[[1., 0., 0., 0., 0.],\n",
      "         [0., 0., 0., 1., 0.],\n",
      "         [0., 0., 0., 1., 0.],\n",
      "         ...,\n",
      "         [1., 0., 0., 0., 0.],\n",
      "         [0., 1., 0., 0., 0.],\n",
      "         [0., 1., 0., 0., 0.]],\n",
      "\n",
      "        [[0., 0., 0., 1., 0.],\n",
      "         [0., 0., 0., 0., 1.],\n",
      "         [0., 0., 0., 1., 0.],\n",
      "         ...,\n",
      "         [1., 0., 0., 0., 0.],\n",
      "         [1., 0., 0., 0., 0.],\n",
      "         [0., 0., 0., 1., 0.]],\n",
      "\n",
      "        [[0., 0., 0., 0., 1.],\n",
      "         [0., 0., 0., 0., 1.],\n",
      "         [0., 0., 0., 0., 1.],\n",
      "         ...,\n",
      "         [0., 0., 0., 1., 0.],\n",
      "         [1., 0., 0., 0., 0.],\n",
      "         [1., 0., 0., 0., 0.]],\n",
      "\n",
      "        ...,\n",
      "\n",
      "        [[0., 0., 1., 0., 0.],\n",
      "         [0., 0., 1., 0., 0.],\n",
      "         [0., 0., 0., 0., 1.],\n",
      "         ...,\n",
      "         [0., 0., 1., 0., 0.],\n",
      "         [0., 0., 0., 0., 1.],\n",
      "         [0., 1., 0., 0., 0.]],\n",
      "\n",
      "        [[0., 0., 1., 0., 0.],\n",
      "         [0., 0., 0., 1., 0.],\n",
      "         [0., 0., 0., 0., 1.],\n",
      "         ...,\n",
      "         [0., 0., 1., 0., 0.],\n",
      "         [0., 0., 0., 1., 0.],\n",
      "         [0., 0., 0., 0., 1.]],\n",
      "\n",
      "        [[0., 1., 0., 0., 0.],\n",
      "         [0., 0., 0., 1., 0.],\n",
      "         [1., 0., 0., 0., 0.],\n",
      "         ...,\n",
      "         [0., 0., 0., 1., 0.],\n",
      "         [1., 0., 0., 0., 0.],\n",
      "         [0., 0., 0., 1., 0.]]])\n",
      "torch.Size([15, 15, 5])\n",
      "tensor([[True, True, True, True, True, True, True, True, True, True, True, True,\n",
      "         True, True, True],\n",
      "        [True, True, True, True, True, True, True, True, True, True, True, True,\n",
      "         True, True, True],\n",
      "        [True, True, True, True, True, True, True, True, True, True, True, True,\n",
      "         True, True, True],\n",
      "        [True, True, True, True, True, True, True, True, True, True, True, True,\n",
      "         True, True, True],\n",
      "        [True, True, True, True, True, True, True, True, True, True, True, True,\n",
      "         True, True, True],\n",
      "        [True, True, True, True, True, True, True, True, True, True, True, True,\n",
      "         True, True, True],\n",
      "        [True, True, True, True, True, True, True, True, True, True, True, True,\n",
      "         True, True, True],\n",
      "        [True, True, True, True, True, True, True, True, True, True, True, True,\n",
      "         True, True, True],\n",
      "        [True, True, True, True, True, True, True, True, True, True, True, True,\n",
      "         True, True, True],\n",
      "        [True, True, True, True, True, True, True, True, True, True, True, True,\n",
      "         True, True, True],\n",
      "        [True, True, True, True, True, True, True, True, True, True, True, True,\n",
      "         True, True, True],\n",
      "        [True, True, True, True, True, True, True, True, True, True, True, True,\n",
      "         True, True, True],\n",
      "        [True, True, True, True, True, True, True, True, True, True, True, True,\n",
      "         True, True, True],\n",
      "        [True, True, True, True, True, True, True, True, True, True, True, True,\n",
      "         True, True, True],\n",
      "        [True, True, True, True, True, True, True, True, True, True, True, True,\n",
      "         True, True, True]])\n"
     ]
    }
   ],
   "source": [
    "import torch\n",
    "import numpy as np\n",
    "\n",
    "gt = np.random.randint(0,5, size=[15,15])  #先生成一个15*15的label，值在5以内，意思是5类分割任务\n",
    "gt = torch.LongTensor(gt)\n",
    "\n",
    "\n",
    "\n",
    "def get_one_hot(label, N):\n",
    "    size = list(label.size())\n",
    "    label = label.view(-1)   # reshape 为向量\n",
    "    ones = torch.eye(N)\n",
    "    ones = ones.index_select(0, label)   # 用上面的办法转为换one hot\n",
    "    size.append(N)  # 把类别输目添到size的尾后，准备reshape回原来的尺寸\n",
    "    return ones.view(*size)\n",
    "\n",
    "\n",
    "gt_one_hot = get_one_hot(gt, 5)\n",
    "print(gt_one_hot)\n",
    "print(gt_one_hot.shape)\n",
    "\n",
    "print(gt_one_hot.argmax(-1) == gt)  # 判断one hot 转换方式是否正确，全是1就是正确的\n"
   ]
  }
 ],
 "metadata": {
  "kernelspec": {
   "display_name": "Python 3.9.7 64-bit",
   "language": "python",
   "name": "python3"
  },
  "language_info": {
   "codemirror_mode": {
    "name": "ipython",
    "version": 3
   },
   "file_extension": ".py",
   "mimetype": "text/x-python",
   "name": "python",
   "nbconvert_exporter": "python",
   "pygments_lexer": "ipython3",
   "version": "3.9.7"
  },
  "orig_nbformat": 4,
  "vscode": {
   "interpreter": {
    "hash": "ba45e27760c94426147f9bc5e8c57e17d8e3b854dbc6baa3a3746a118bf19da6"
   }
  }
 },
 "nbformat": 4,
 "nbformat_minor": 2
}
