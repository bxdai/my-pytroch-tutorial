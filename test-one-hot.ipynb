{
 "cells": [
  {
   "cell_type": "markdown",
   "source": [
    "one_hot编码定义  \r\n",
    "在一个给定的向量中，按照设定的最值–可以是向量中包含的最大值（作为最高分类数），有也可以是自定义的最大值，设计one_hot编码的长度：最大值+1【详见举的例子吧】。\r\n",
    "\r\n",
    "然后按照最大值创建一个1*(最大值+1)的维度大小的全零零向量：[0, 0, 0, …] => 共最大值+1对应的个数\r\n",
    "\r\n",
    "接着按照向量中的值，从第0位开始索引，将向量中值对应的位置设置为1，其他保持为0.\r\n",
    "\r\n",
    "总结：one_hot编码主要用于分类时，作为一个类别的编码–方便判别与相关计算；\r\n",
    "【1. 如同类别数统计，只需要将one_hot编码相加得到一个一维向量就知道了一批数据中所有类别的预测或真实的分布情况；\r\n",
    "2. 相比于预测出具体的类别数–43等，用向量可以使用向量相关的算法进行时间上的优化等等】\r\n",
    "————————————————\r\n",
    "版权声明：本文为CSDN博主「NULL not error」的原创文章，遵循CC 4.0 BY-SA版权协议，转载请附上原文出处链接及本声明。\r\n",
    "原文链接：https://blog.csdn.net/weixin_44604887/article/details/109523281\r\n"
   ],
   "metadata": {}
  },
  {
   "cell_type": "code",
   "execution_count": 3,
   "source": [
    "import torch.nn.functional as F\r\n",
    "import torch\r\n",
    "x = torch.tensor([5,3,4,5,1,2,])# 默认按照targets其中的最大值+1作为one_hot编码的长度\r\n",
    "\r\n",
    "x1 = F.one_hot(x)\r\n",
    "print(x1)"
   ],
   "outputs": [
    {
     "output_type": "stream",
     "name": "stdout",
     "text": [
      "tensor([[0, 0, 0, 0, 0, 1],\n",
      "        [0, 0, 0, 1, 0, 0],\n",
      "        [0, 0, 0, 0, 1, 0],\n",
      "        [0, 0, 0, 0, 0, 1],\n",
      "        [0, 1, 0, 0, 0, 0],\n",
      "        [0, 0, 1, 0, 0, 0]])\n"
     ]
    }
   ],
   "metadata": {}
  },
  {
   "cell_type": "code",
   "execution_count": 4,
   "source": [
    "#指定one_hot编码长度\r\n",
    "num = 7\r\n",
    "target = F.one_hot(x,num_classes=num)\r\n",
    "print(target)"
   ],
   "outputs": [
    {
     "output_type": "stream",
     "name": "stdout",
     "text": [
      "tensor([[0, 0, 0, 0, 0, 1, 0],\n",
      "        [0, 0, 0, 1, 0, 0, 0],\n",
      "        [0, 0, 0, 0, 1, 0, 0],\n",
      "        [0, 0, 0, 0, 0, 1, 0],\n",
      "        [0, 1, 0, 0, 0, 0, 0],\n",
      "        [0, 0, 1, 0, 0, 0, 0]])\n"
     ]
    }
   ],
   "metadata": {}
  }
 ],
 "metadata": {
  "orig_nbformat": 4,
  "language_info": {
   "name": "python",
   "version": "3.9.7",
   "mimetype": "text/x-python",
   "codemirror_mode": {
    "name": "ipython",
    "version": 3
   },
   "pygments_lexer": "ipython3",
   "nbconvert_exporter": "python",
   "file_extension": ".py"
  },
  "kernelspec": {
   "name": "python3",
   "display_name": "Python 3.9.7 64-bit"
  },
  "interpreter": {
   "hash": "9c55d9c4d7133e07a1e34425006a84d62065573fea9d194a937da05d64b3e64a"
  }
 },
 "nbformat": 4,
 "nbformat_minor": 2
}