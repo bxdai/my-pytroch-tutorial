{
 "cells": [
  {
   "cell_type": "markdown",
   "metadata": {},
   "source": [
    "## softmax：\n",
    "Softmax函数是一个非线性转换函数，通常用在网络输出的最后一层，输出的是概率分布（比如在多分类问题中，Softmax输出的是每个类别对应的概率）\n"
   ]
  },
  {
   "cell_type": "code",
   "execution_count": 2,
   "metadata": {},
   "outputs": [
    {
     "name": "stdout",
     "output_type": "stream",
     "text": [
      "[0.07795756 0.09521758 0.12853029 0.57603278 0.12226179]\n",
      "0.9999999999999999\n"
     ]
    }
   ],
   "source": [
    "import numpy as np\n",
    "data = np.array([0.1, 0.3, 0.6, 2.1 ,0.55])\n",
    "a = np.exp(data)/np.sum(np.exp(data))\n",
    "print(a)\n",
    "print(sum(a))"
   ]
  },
  {
   "cell_type": "code",
   "execution_count": 6,
   "metadata": {},
   "outputs": [
    {
     "name": "stdout",
     "output_type": "stream",
     "text": [
      "tensor([0.1000, 0.3000, 0.6000, 2.1000, 0.5500], dtype=torch.float64)\n",
      "torch.Size([5])\n",
      "torch.DoubleTensor\n",
      "tensor([0.0780, 0.0952, 0.1285, 0.5760, 0.1223], dtype=torch.float64)\n",
      "torch.Size([5])\n",
      "torch.DoubleTensor\n"
     ]
    }
   ],
   "source": [
    "import torch\n",
    "import torch.nn.functional as F\n",
    "t_data = torch.from_numpy(data)\n",
    "print(t_data)\n",
    "print(t_data.shape)\n",
    "print(t_data.type())\n",
    " \n",
    "prob = F.softmax(t_data,dim=0) # dim = 0,在列上进行Softmax;dim=1,在行上进行Softmax\n",
    "print(prob)\n",
    "print(prob.shape)\n",
    "print(prob.type())"
   ]
  },
  {
   "cell_type": "markdown",
   "metadata": {},
   "source": [
    "## argmax\n",
    "寻找参数最大值的索引，但是该过程不可导"
   ]
  },
  {
   "cell_type": "code",
   "execution_count": 3,
   "metadata": {},
   "outputs": [
    {
     "name": "stdout",
     "output_type": "stream",
     "text": [
      "[1 2 2 1]\n"
     ]
    }
   ],
   "source": [
    "a = np.array([[1, 5, 5, 2],\n",
    "              [9, 6, 2, 8],\n",
    "              [3, 7, 9, 1]])\n",
    "print(np.argmax(a, axis=0)) #axis = 0 表示输出最大值索引值的\"轴\""
   ]
  },
  {
   "cell_type": "code",
   "execution_count": 4,
   "metadata": {},
   "outputs": [
    {
     "name": "stdout",
     "output_type": "stream",
     "text": [
      "[1 0 2]\n"
     ]
    }
   ],
   "source": [
    "print(np.argmax(a, axis=1)) #axis = 1 "
   ]
  },
  {
   "cell_type": "markdown",
   "metadata": {},
   "source": [
    "### soft-argmax\n",
    "结合softmax函数 ，达到argmax的目的，同时使得过程可导。"
   ]
  },
  {
   "cell_type": "code",
   "execution_count": 7,
   "metadata": {},
   "outputs": [
    {
     "data": {
      "text/plain": [
       "2.5694236670240085"
      ]
     },
     "execution_count": 7,
     "metadata": {},
     "output_type": "execute_result"
    }
   ],
   "source": [
    "np.sum(np.exp(data)/np.sum(np.exp(data)) * np.array([0,1,2,3,4]))    # E = p*index"
   ]
  },
  {
   "cell_type": "markdown",
   "metadata": {},
   "source": [
    "### 解读：\n",
    "- 归一化后的向量 乘以 索引值向量\n",
    "- array([0.07795756, 0.09521758, 0.12853029, 0.57603278, 0.12226179])\n",
    "- array([ 0 , 1 , 2 ,3 ,4 ])\n",
    "- 不难发现，越大的值，其索引值的权重也越大。\n",
    "- 所以能产生我们想要的结果（寻找最大值的索引值）。\n",
    "\n",
    "### 改进：\n",
    "- 从上面看到位置计算不够准确（2.57 -> 3），一个原因就是最大值的概率不够大，或者说增大相对最大值而减弱其他值的影响就可以得到更加准确的位置坐标。\n"
   ]
  },
  {
   "cell_type": "code",
   "execution_count": 8,
   "metadata": {},
   "outputs": [
    {
     "name": "stdout",
     "output_type": "stream",
     "text": [
      "[ 1.   3.   6.  21.   5.5]\n"
     ]
    },
    {
     "data": {
      "text/plain": [
       "2.9999998429934758"
      ]
     },
     "execution_count": 8,
     "metadata": {},
     "output_type": "execute_result"
    }
   ],
   "source": [
    "d = data*10       # beta=10\n",
    "print(d)\n",
    "np.sum(np.exp(d)/np.sum(np.exp(d)) *np.array([0,1,2,3,4]))\n"
   ]
  }
 ],
 "metadata": {
  "kernelspec": {
   "display_name": "Python 3.9.7 64-bit",
   "language": "python",
   "name": "python3"
  },
  "language_info": {
   "codemirror_mode": {
    "name": "ipython",
    "version": 3
   },
   "file_extension": ".py",
   "mimetype": "text/x-python",
   "name": "python",
   "nbconvert_exporter": "python",
   "pygments_lexer": "ipython3",
   "version": "3.9.7"
  },
  "orig_nbformat": 4,
  "vscode": {
   "interpreter": {
    "hash": "ba45e27760c94426147f9bc5e8c57e17d8e3b854dbc6baa3a3746a118bf19da6"
   }
  }
 },
 "nbformat": 4,
 "nbformat_minor": 2
}
